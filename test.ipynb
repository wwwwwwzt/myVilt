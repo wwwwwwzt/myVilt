{
 "cells": [
  {
   "cell_type": "code",
   "execution_count": 2,
   "metadata": {},
   "outputs": [],
   "source": [
    "import math\n",
    "import pandas as pd\n",
    "import numpy as np\n",
    "import torch\n",
    "from PIL import Image\n",
    "from torch.utils.data import DataLoader\n",
    "import torch.nn as nn"
   ]
  },
  {
   "cell_type": "code",
   "execution_count": 3,
   "metadata": {},
   "outputs": [
    {
     "name": "stdout",
     "output_type": "stream",
     "text": [
      "[2, 6, 7, 8, 9, 10, 12, 13, 16, 17, 18, 19, 20, 21, 22]\n"
     ]
    }
   ],
   "source": [
    "test_id = '1'\n",
    "tb_dir = \"runs/deap_swin_dep\"\n",
    "device = torch.device(\"cuda\" if torch.cuda.is_available() else \"cpu\")\n",
    "channels = 32\n",
    "samples = 384\n",
    "eeg_data_folder = './DEAP/EEGData/'\n",
    "test_eeg_data = np.load(f\"{eeg_data_folder}s{str(test_id).zfill(2)}_eeg.npy\")\n",
    "test_labels = np.load(f\"{eeg_data_folder}s{str(test_id).zfill(2)}_labels.npy\")\n",
    "available_subjects = [1, 2, 6, 7, 8, 9, 10, 12, 13, 16, 17, 18, 19, 20, 21, 22]\n",
    "train_ids = [subject for subject in available_subjects if str(subject) != test_id]"
   ]
  },
  {
   "cell_type": "code",
   "execution_count": 13,
   "metadata": {},
   "outputs": [
    {
     "name": "stdout",
     "output_type": "stream",
     "text": [
      "./DEAP/faces/s01/\n",
      "800 800\n",
      "./DEAP/faces/s01/1.jpg (32, 384)\n",
      "12000\n"
     ]
    }
   ],
   "source": [
    "'''\n",
    "    -----------------------------合并训练集的所有eeg和label--------------------------------\n",
    "'''\n",
    "train_eeg_data = []\n",
    "train_labels = []\n",
    "for i in train_ids:\n",
    "    eeg_file = f\"{eeg_data_folder}s{str(i).zfill(2)}_eeg.npy\"\n",
    "    label_file = f\"{eeg_data_folder}s{str(i).zfill(2)}_labels.npy\"\n",
    "    # 尝试加载 EEG 数据和标签，如果文件不存在则跳过\n",
    "    try:\n",
    "        eeg_data = np.load(eeg_file)\n",
    "        labels = np.load(label_file)\n",
    "        \n",
    "        train_eeg_data.append(eeg_data)\n",
    "        train_labels.append(labels)\n",
    "    except FileNotFoundError:\n",
    "        print(f\"Data for subject {i} not found!!!!!!!!!!!!!!!!!\")\n",
    "\n",
    "train_eeg_data = np.concatenate(train_eeg_data, axis=0)\n",
    "train_labels = np.concatenate(train_labels, axis=0)\n",
    "'''\n",
    "    -----------------------------组织图像数据,与eeg对齐--------------------------------\n",
    "'''\n",
    "# 创建一个列表，用于存储所有图像文件的路径\n",
    "train_image_file_list = []\n",
    "for i in train_ids:\n",
    "    person_image_data_folder = f\"./DEAP/faces/s{str(i).zfill(2)}/\" \n",
    "    # 遍历每个人的图像文件\n",
    "    for j in range(1, 801):\n",
    "        filename = f\"{person_image_data_folder}{j}.jpg\"\n",
    "        train_image_file_list.append(filename)\n",
    "\n",
    "# eeg、图片组合在一起\n",
    "train_combined_data = list(zip(train_eeg_data, train_image_file_list))\n",
    "\n",
    "\n",
    "test_image_file_list = []\n",
    "person_image_data_folder = f\"./DEAP/faces/s{str(test_id).zfill(2)}/\" \n",
    "for j in range(1, 801):\n",
    "    filename = f\"{person_image_data_folder}{j}.jpg\"\n",
    "    test_image_file_list.append(filename)\n",
    "test_combined_data = list(zip(test_eeg_data, test_image_file_list))\n",
    "\n",
    "\n",
    "data = train_combined_data"
   ]
  },
  {
   "cell_type": "code",
   "execution_count": 18,
   "metadata": {},
   "outputs": [
    {
     "name": "stdout",
     "output_type": "stream",
     "text": [
      "12000 32 ./DEAP/faces/s02/1.jpg\n",
      "12000\n",
      "800\n",
      "800\n"
     ]
    }
   ],
   "source": [
    "train_data = train_combined_data\n",
    "train_labels = train_labels\n",
    "test_data = test_combined_data\n",
    "test_labels = test_labels"
   ]
  }
 ],
 "metadata": {
  "kernelspec": {
   "display_name": "myvilt",
   "language": "python",
   "name": "python3"
  },
  "language_info": {
   "codemirror_mode": {
    "name": "ipython",
    "version": 3
   },
   "file_extension": ".py",
   "mimetype": "text/x-python",
   "name": "python",
   "nbconvert_exporter": "python",
   "pygments_lexer": "ipython3",
   "version": "3.8.0"
  }
 },
 "nbformat": 4,
 "nbformat_minor": 2
}
