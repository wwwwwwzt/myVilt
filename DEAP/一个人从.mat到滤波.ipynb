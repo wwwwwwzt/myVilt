{
 "cells": [
  {
   "cell_type": "code",
   "execution_count": null,
   "metadata": {},
   "outputs": [],
   "source": [
    "import scipy.io\n",
    "import numpy as np"
   ]
  },
  {
   "cell_type": "code",
   "execution_count": null,
   "metadata": {},
   "outputs": [],
   "source": [
    "mat_data = scipy.io.loadmat('./data_preprocessed_matlab/s02.mat') \n",
    "original_data = mat_data['data']\n",
    "original_label = mat_data['labels']\n",
    "\n",
    "# (40, 40, 8064) 40试验，40通道（前32为eeg），63s（前3秒没用） x 128Hz = 8064\n",
    "print(\"original_data形状：\", original_data.shape)\n",
    "# (40, 4) 40试验，4个评价指标\n",
    "print(\"original_label形状：\", original_label.shape)"
   ]
  },
  {
   "cell_type": "code",
   "execution_count": null,
   "metadata": {},
   "outputs": [],
   "source": [
    "'''\n",
    "    处理eeg，从(40, 40, 8064)变成(800, 32, 384)\n",
    "'''\n",
    "# 前32为eeg，去除前3秒\n",
    "sliced_data = original_data[:, :32, 384:] \n",
    "print(\"sliced_data形状：\", sliced_data.shape) # (40, 32, 7680)\n",
    "\n",
    "# 将数据切片成 3 秒一段\n",
    "segment_size = 3 * 128\n",
    "num_segments = sliced_data.shape[2] // segment_size # 7680/3/128 = 20\n",
    "segments_array = np.zeros((sliced_data.shape[0], sliced_data.shape[1], num_segments, segment_size))\n",
    "\n",
    "# 将数据按照每 384 个元素一段切开，并存储到 segments_array 中\n",
    "for i in range(num_segments):\n",
    "    start_index = i * segment_size\n",
    "    end_index = (i + 1) * segment_size\n",
    "    segments_array[:, :, i, :] = sliced_data[:, :, start_index:end_index]\n",
    "# (40, 32, 20, 384)\n",
    "print(\"segments_array形状：\", segments_array.shape)\n",
    "\n",
    "# 使用 transpose 函数交换第二和第三维度\n",
    "reshaped_segments_array = segments_array.transpose(2, 0, 1, 3)\n",
    "# (20, 40, 32, 384)\n",
    "print(\"重新排列后的数组形状：\", reshaped_segments_array.shape)\n",
    "\n",
    "# 使用 reshape 函数合并前两个维度\n",
    "merged_segments_array = reshaped_segments_array.reshape(-1, reshaped_segments_array.shape[2], reshaped_segments_array.shape[3])\n",
    "# (800, 32, 384)\n",
    "print(\"合并后的数组形状：\", merged_segments_array.shape)\n",
    "eeg_data = merged_segments_array"
   ]
  },
  {
   "cell_type": "code",
   "execution_count": null,
   "metadata": {},
   "outputs": [],
   "source": [
    "'''\n",
    "    处理labels，从(40, 4)变成(800,)\n",
    "'''\n",
    "valence = original_label[:,0]\n",
    "arousal = original_label[:,1]\n",
    "# HAHV--1, LAHV--2, LALV--3, HALV--4 完全按照象限来分\n",
    "VA_labels = np.where((valence > 5) & (arousal > 5), 1,\n",
    "          np.where((valence >= 5) & (arousal < 5), 2,\n",
    "            np.where((valence < 5) & (arousal < 5), 3, 4)))\n",
    "print(\"V:\", valence)\n",
    "print(\"A:\", arousal)\n",
    "print(VA_labels)\n",
    "\n",
    "# 将 VA_labels 从 40 扩展到 800，VA_labels中的一个数复制20次\n",
    "expanded_VA_labels = np.repeat(VA_labels, num_segments)\n",
    "print(expanded_VA_labels.shape) # (800,)\n",
    "labels = expanded_VA_labels "
   ]
  },
  {
   "cell_type": "code",
   "execution_count": null,
   "metadata": {},
   "outputs": [],
   "source": [
    "import pandas as pd\n",
    "import mne\n",
    "from mne import io\n",
    "from mne.datasets import sample\n",
    "from mne.preprocessing import ICA\n",
    "import os\n",
    "\n",
    "sfreq = 128  # 采样率为128Hz\n",
    "channels = 32\n",
    "samples = 384\n",
    "num_trials = 800\n",
    "ch_names = ['Fp1', 'AF3', 'F7', 'F3', 'FC1', 'FC5', 'T7', 'C3', 'CP1', 'CP5', 'P7', 'P3', \n",
    "            'Pz', 'PO3', 'O1', 'Oz', 'O2', 'PO4', 'P4', 'P8', 'CP6', 'CP2', 'C4', 'T8', \n",
    "            'FC6', 'FC2', 'F4', 'F8', 'AF4', 'FP2', 'Fz', 'Cz']\n",
    "ch_types = ['eeg'] * channels\n",
    "\n",
    "# eeg_data_file = os.path.join(eeg_data_folder, 's01_eeg.npy')\n",
    "# label_file = os.path.join(eeg_data_folder, 's01_labels.npy')\n",
    "# eeg_data = np.load(eeg_data_file)\n",
    "# labels = np.load(label_file)\n",
    "\n",
    "data_list = []\n",
    "# 创建MNE的Raw对象\n",
    "info = mne.create_info(ch_names=ch_names, ch_types=ch_types, sfreq=sfreq)\n",
    "eeg_data_segments = np.split(eeg_data, num_trials, axis=0)\n",
    "for segment in eeg_data_segments:\n",
    "    segment_2d = segment.reshape(-1, channels).T\n",
    "    print(\"wzt segment_2d\", segment_2d.shape) # (32, 384)\n",
    "    # 创建Raw对象\n",
    "    raw = mne.io.RawArray(segment_2d, info=info)\n",
    "    \n",
    "    # 滤波\n",
    "    raw.filter(l_freq=1.0, h_freq=50.0)\n",
    "    \n",
    "    # 创建ICA对象并拟合数据\n",
    "    ica = ICA(n_components=channels, random_state=0, max_iter=1000)  # 调整参数\n",
    "    ica.fit(raw)\n",
    "    \n",
    "    # 应用ICA滤波\n",
    "    ica.exclude = []  # 将排除的独立成分列表设置为空\n",
    "    ica.apply(raw)\n",
    "    \n",
    "    # 将滤波后的数据添加到列表\n",
    "    data_list.append(raw.get_data().T)\n",
    "\n",
    "# 将数据列表转换为3D数组\n",
    "eeg_data_filtered = np.array(data_list)\n",
    "print(\"wzt eeg_data_filtered\", eeg_data_filtered.shape)"
   ]
  },
  {
   "cell_type": "code",
   "execution_count": null,
   "metadata": {},
   "outputs": [],
   "source": [
    "'''\n",
    "    保存数据\n",
    "'''\n",
    "np.save('./EEGData/s02_eeg.npy', eeg_data) # (800, 32, 384)\n",
    "np.save('./EEGData/s02_labels.npy', labels) # (800,)"
   ]
  }
 ],
 "metadata": {
  "kernelspec": {
   "display_name": "base",
   "language": "python",
   "name": "python3"
  },
  "language_info": {
   "codemirror_mode": {
    "name": "ipython",
    "version": 3
   },
   "file_extension": ".py",
   "mimetype": "text/x-python",
   "name": "python",
   "nbconvert_exporter": "python",
   "pygments_lexer": "ipython3",
   "version": "3.8.17"
  }
 },
 "nbformat": 4,
 "nbformat_minor": 2
}
