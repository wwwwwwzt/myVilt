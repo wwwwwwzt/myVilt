{
 "cells": [
  {
   "cell_type": "code",
   "execution_count": 9,
   "metadata": {},
   "outputs": [],
   "source": [
    "import scipy.io\n",
    "import numpy as np"
   ]
  },
  {
   "cell_type": "code",
   "execution_count": 10,
   "metadata": {},
   "outputs": [
    {
     "name": "stdout",
     "output_type": "stream",
     "text": [
      "original_data形状： (40, 40, 8064)\n",
      "original_label形状： (40, 4)\n"
     ]
    }
   ],
   "source": [
    "mat_data = scipy.io.loadmat('./data_preprocessed_matlab/s02.mat') \n",
    "original_data = mat_data['data']\n",
    "original_label = mat_data['labels']\n",
    "\n",
    "# (40, 40, 8064) 40试验，40通道（前32为eeg），63s（前3秒没用） x 128Hz = 8064\n",
    "print(\"original_data形状：\", original_data.shape)\n",
    "# (40, 4) 40试验，4个评价指标\n",
    "print(\"original_label形状：\", original_label.shape)"
   ]
  },
  {
   "cell_type": "code",
   "execution_count": 11,
   "metadata": {},
   "outputs": [
    {
     "name": "stdout",
     "output_type": "stream",
     "text": [
      "sliced_data形状： (40, 32, 7680)\n"
     ]
    }
   ],
   "source": [
    "'''\n",
    "    处理eeg，从(40, 40, 8064)变成(40, 32, 7680)\n",
    "'''\n",
    "# 前32通道为eeg，去除前3秒\n",
    "sliced_data = original_data[:, :32, 384:] \n",
    "print(\"sliced_data形状：\", sliced_data.shape) # (40, 32, 7680)\n",
    "\n",
    "eeg_data = sliced_data"
   ]
  },
  {
   "cell_type": "code",
   "execution_count": 12,
   "metadata": {},
   "outputs": [
    {
     "name": "stdout",
     "output_type": "stream",
     "text": [
      "V: [9.   8.01 9.   6.05 5.04 5.   4.96 9.   9.   4.99 7.08 8.01 9.   8.94\n",
      " 9.   6.   9.   9.   9.   8.97 1.   5.   1.   7.08 9.   9.   4.96 4.06\n",
      " 2.99 2.01 4.06 1.   5.   4.87 1.99 5.04 1.   1.   1.   6.05]\n",
      "A: [5.03 7.1  9.   1.   3.   4.94 1.99 9.   7.   1.   1.   6.06 4.99 9.\n",
      " 8.01 5.05 3.   6.15 8.32 9.   1.   1.   2.97 9.   9.   8.04 5.01 4.97\n",
      " 7.04 7.05 7.05 9.   8.03 1.   2.   1.   8.06 9.   1.   6.67]\n",
      "[0 0 0 1 1 1 2 0 0 2 1 0 1 0 0 0 1 0 0 0 2 1 2 0 0 0 3 2 3 3 3 3 3 2 2 1 3\n",
      " 3 2 0]\n",
      "(800,)\n"
     ]
    }
   ],
   "source": [
    "'''\n",
    "    处理labels，从(40, 4)变成(800,)\n",
    "'''\n",
    "valence = original_label[:,0]\n",
    "arousal = original_label[:,1]\n",
    "# HAHV--1, LAHV--2, LALV--3, HALV--4 完全按照象限来分\n",
    "VA_labels = np.where((valence > 5) & (arousal > 5), 0,\n",
    "          np.where((valence >= 5) & (arousal < 5), 1,\n",
    "            np.where((valence < 5) & (arousal < 5), 2, 3)))\n",
    "print(\"V:\", valence)\n",
    "print(\"A:\", arousal)\n",
    "print(VA_labels)\n",
    "\n",
    "# 将数据切片成 3 秒一段\n",
    "segment_size = 3 * 128\n",
    "# 将 VA_labels 从 40 扩展到 800，VA_labels中的一个数复制20次\n",
    "num_segments = sliced_data.shape[2] // segment_size # 7680/3/128 = 20\n",
    "expanded_VA_labels = np.repeat(VA_labels, num_segments)\n",
    "print(expanded_VA_labels.shape) # (800,)\n",
    "labels = expanded_VA_labels \n",
    "# print(labels)"
   ]
  },
  {
   "cell_type": "markdown",
   "metadata": {},
   "source": [
    "'''\n",
    "    保存数据\n",
    "'''\n",
    "np.save('./EEGData/s01_eeg.npy', eeg_data) # (40, 32, 7680)\n",
    "np.save('./EEGData/s01_labels.npy', labels) # (800,)"
   ]
  },
  {
   "cell_type": "code",
   "execution_count": 13,
   "metadata": {},
   "outputs": [
    {
     "name": "stdout",
     "output_type": "stream",
     "text": [
      "wzt index 1\n",
      "wzt segment_2d (32, 7680)\n",
      "Creating RawArray with float64 data, n_channels=32, n_times=7680\n",
      "    Range : 0 ... 7679 =      0.000 ...    59.992 secs\n",
      "Ready.\n",
      "Filtering raw data in 1 contiguous segment\n",
      "Setting up band-pass filter from 1 - 50 Hz\n",
      "\n",
      "FIR filter parameters\n",
      "---------------------\n",
      "Designing a one-pass, zero-phase, non-causal bandpass filter:\n",
      "- Windowed time-domain design (firwin) method\n",
      "- Hamming window with 0.0194 passband ripple and 53 dB stopband attenuation\n",
      "- Lower passband edge: 1.00\n",
      "- Lower transition bandwidth: 1.00 Hz (-6 dB cutoff frequency: 0.50 Hz)\n",
      "- Upper passband edge: 50.00 Hz\n",
      "- Upper transition bandwidth: 12.50 Hz (-6 dB cutoff frequency: 56.25 Hz)\n",
      "- Filter length: 423 samples (3.305 s)\n",
      "\n",
      "Fitting ICA to data using 32 channels (please be patient, this may take a while)\n",
      "Selecting by number: 32 components\n"
     ]
    },
    {
     "name": "stderr",
     "output_type": "stream",
     "text": [
      "[Parallel(n_jobs=1)]: Done  17 tasks      | elapsed:    0.0s\n"
     ]
    },
    {
     "name": "stdout",
     "output_type": "stream",
     "text": [
      "Fitting ICA took 0.8s.\n",
      "Applying ICA to Raw instance\n",
      "    Transforming to ICA space (32 components)\n",
      "    Zeroing out 0 ICA components\n",
      "    Projecting back using 32 PCA components\n",
      "wzt index 2\n",
      "wzt segment_2d (32, 7680)\n",
      "Creating RawArray with float64 data, n_channels=32, n_times=7680\n",
      "    Range : 0 ... 7679 =      0.000 ...    59.992 secs\n",
      "Ready.\n",
      "Filtering raw data in 1 contiguous segment\n",
      "Setting up band-pass filter from 1 - 50 Hz\n",
      "\n",
      "FIR filter parameters\n",
      "---------------------\n",
      "Designing a one-pass, zero-phase, non-causal bandpass filter:\n",
      "- Windowed time-domain design (firwin) method\n",
      "- Hamming window with 0.0194 passband ripple and 53 dB stopband attenuation\n",
      "- Lower passband edge: 1.00\n",
      "- Lower transition bandwidth: 1.00 Hz (-6 dB cutoff frequency: 0.50 Hz)\n",
      "- Upper passband edge: 50.00 Hz\n",
      "- Upper transition bandwidth: 12.50 Hz (-6 dB cutoff frequency: 56.25 Hz)\n",
      "- Filter length: 423 samples (3.305 s)\n",
      "\n",
      "Fitting ICA to data using 32 channels (please be patient, this may take a while)\n",
      "Selecting by number: 32 components\n"
     ]
    },
    {
     "name": "stderr",
     "output_type": "stream",
     "text": [
      "/tmp/ipykernel_516038/1713448311.py:32: RuntimeWarning: Using n_components=32 (resulting in n_components_=32) may lead to an unstable mixing matrix estimation because the ratio between the largest (12) and smallest (7.8e-14) variances is too large (> 1e6); consider setting n_components=0.999999 or an integer <= 26\n",
      "  ica.fit(raw)\n",
      "[Parallel(n_jobs=1)]: Done  17 tasks      | elapsed:    0.0s\n"
     ]
    },
    {
     "name": "stdout",
     "output_type": "stream",
     "text": [
      "Fitting ICA took 0.9s.\n",
      "Applying ICA to Raw instance\n",
      "    Transforming to ICA space (32 components)\n",
      "    Zeroing out 0 ICA components\n",
      "    Projecting back using 32 PCA components\n",
      "wzt index 3\n",
      "wzt segment_2d (32, 7680)\n",
      "Creating RawArray with float64 data, n_channels=32, n_times=7680\n",
      "    Range : 0 ... 7679 =      0.000 ...    59.992 secs\n",
      "Ready.\n",
      "Filtering raw data in 1 contiguous segment\n",
      "Setting up band-pass filter from 1 - 50 Hz\n",
      "\n",
      "FIR filter parameters\n",
      "---------------------\n",
      "Designing a one-pass, zero-phase, non-causal bandpass filter:\n",
      "- Windowed time-domain design (firwin) method\n",
      "- Hamming window with 0.0194 passband ripple and 53 dB stopband attenuation\n",
      "- Lower passband edge: 1.00\n",
      "- Lower transition bandwidth: 1.00 Hz (-6 dB cutoff frequency: 0.50 Hz)\n",
      "- Upper passband edge: 50.00 Hz\n",
      "- Upper transition bandwidth: 12.50 Hz (-6 dB cutoff frequency: 56.25 Hz)\n",
      "- Filter length: 423 samples (3.305 s)\n",
      "\n",
      "Fitting ICA to data using 32 channels (please be patient, this may take a while)\n",
      "Selecting by number: 32 components\n"
     ]
    },
    {
     "name": "stderr",
     "output_type": "stream",
     "text": [
      "/tmp/ipykernel_516038/1713448311.py:32: RuntimeWarning: Using n_components=32 (resulting in n_components_=32) may lead to an unstable mixing matrix estimation because the ratio between the largest (14) and smallest (9.8e-14) variances is too large (> 1e6); consider setting n_components=0.999999 or an integer <= 26\n",
      "  ica.fit(raw)\n",
      "[Parallel(n_jobs=1)]: Done  17 tasks      | elapsed:    0.0s\n"
     ]
    },
    {
     "name": "stdout",
     "output_type": "stream",
     "text": [
      "Fitting ICA took 1.2s.\n",
      "Applying ICA to Raw instance\n",
      "    Transforming to ICA space (32 components)\n",
      "    Zeroing out 0 ICA components\n",
      "    Projecting back using 32 PCA components\n",
      "wzt index 4\n",
      "wzt segment_2d (32, 7680)\n",
      "Creating RawArray with float64 data, n_channels=32, n_times=7680\n",
      "    Range : 0 ... 7679 =      0.000 ...    59.992 secs\n",
      "Ready.\n",
      "Filtering raw data in 1 contiguous segment\n",
      "Setting up band-pass filter from 1 - 50 Hz\n",
      "\n",
      "FIR filter parameters\n",
      "---------------------\n",
      "Designing a one-pass, zero-phase, non-causal bandpass filter:\n",
      "- Windowed time-domain design (firwin) method\n",
      "- Hamming window with 0.0194 passband ripple and 53 dB stopband attenuation\n",
      "- Lower passband edge: 1.00\n",
      "- Lower transition bandwidth: 1.00 Hz (-6 dB cutoff frequency: 0.50 Hz)\n",
      "- Upper passband edge: 50.00 Hz\n",
      "- Upper transition bandwidth: 12.50 Hz (-6 dB cutoff frequency: 56.25 Hz)\n",
      "- Filter length: 423 samples (3.305 s)\n",
      "\n",
      "Fitting ICA to data using 32 channels (please be patient, this may take a while)\n",
      "Selecting by number: 32 components\n"
     ]
    },
    {
     "name": "stderr",
     "output_type": "stream",
     "text": [
      "/tmp/ipykernel_516038/1713448311.py:32: RuntimeWarning: Using n_components=32 (resulting in n_components_=32) may lead to an unstable mixing matrix estimation because the ratio between the largest (15) and smallest (1.7e-13) variances is too large (> 1e6); consider setting n_components=0.999999 or an integer <= 27\n",
      "  ica.fit(raw)\n",
      "[Parallel(n_jobs=1)]: Done  17 tasks      | elapsed:    0.0s\n"
     ]
    },
    {
     "name": "stdout",
     "output_type": "stream",
     "text": [
      "Fitting ICA took 0.7s.\n",
      "Applying ICA to Raw instance\n",
      "    Transforming to ICA space (32 components)\n",
      "    Zeroing out 0 ICA components\n",
      "    Projecting back using 32 PCA components\n",
      "wzt index 5\n",
      "wzt segment_2d (32, 7680)\n",
      "Creating RawArray with float64 data, n_channels=32, n_times=7680\n",
      "    Range : 0 ... 7679 =      0.000 ...    59.992 secs\n",
      "Ready.\n",
      "Filtering raw data in 1 contiguous segment\n",
      "Setting up band-pass filter from 1 - 50 Hz\n",
      "\n",
      "FIR filter parameters\n",
      "---------------------\n",
      "Designing a one-pass, zero-phase, non-causal bandpass filter:\n",
      "- Windowed time-domain design (firwin) method\n",
      "- Hamming window with 0.0194 passband ripple and 53 dB stopband attenuation\n",
      "- Lower passband edge: 1.00\n",
      "- Lower transition bandwidth: 1.00 Hz (-6 dB cutoff frequency: 0.50 Hz)\n",
      "- Upper passband edge: 50.00 Hz\n",
      "- Upper transition bandwidth: 12.50 Hz (-6 dB cutoff frequency: 56.25 Hz)\n",
      "- Filter length: 423 samples (3.305 s)\n",
      "\n",
      "Fitting ICA to data using 32 channels (please be patient, this may take a while)\n",
      "Selecting by number: 32 components\n"
     ]
    },
    {
     "name": "stderr",
     "output_type": "stream",
     "text": [
      "/tmp/ipykernel_516038/1713448311.py:32: RuntimeWarning: Using n_components=32 (resulting in n_components_=32) may lead to an unstable mixing matrix estimation because the ratio between the largest (13) and smallest (4.6e-14) variances is too large (> 1e6); consider setting n_components=0.999999 or an integer <= 26\n",
      "  ica.fit(raw)\n",
      "[Parallel(n_jobs=1)]: Done  17 tasks      | elapsed:    0.0s\n"
     ]
    },
    {
     "name": "stdout",
     "output_type": "stream",
     "text": [
      "Fitting ICA took 0.8s.\n",
      "Applying ICA to Raw instance\n",
      "    Transforming to ICA space (32 components)\n",
      "    Zeroing out 0 ICA components\n",
      "    Projecting back using 32 PCA components\n",
      "wzt index 6\n",
      "wzt segment_2d (32, 7680)\n",
      "Creating RawArray with float64 data, n_channels=32, n_times=7680\n",
      "    Range : 0 ... 7679 =      0.000 ...    59.992 secs\n",
      "Ready.\n",
      "Filtering raw data in 1 contiguous segment\n",
      "Setting up band-pass filter from 1 - 50 Hz\n",
      "\n",
      "FIR filter parameters\n",
      "---------------------\n",
      "Designing a one-pass, zero-phase, non-causal bandpass filter:\n",
      "- Windowed time-domain design (firwin) method\n",
      "- Hamming window with 0.0194 passband ripple and 53 dB stopband attenuation\n",
      "- Lower passband edge: 1.00\n",
      "- Lower transition bandwidth: 1.00 Hz (-6 dB cutoff frequency: 0.50 Hz)\n",
      "- Upper passband edge: 50.00 Hz\n",
      "- Upper transition bandwidth: 12.50 Hz (-6 dB cutoff frequency: 56.25 Hz)\n",
      "- Filter length: 423 samples (3.305 s)\n",
      "\n",
      "Fitting ICA to data using 32 channels (please be patient, this may take a while)\n",
      "Selecting by number: 32 components\n"
     ]
    },
    {
     "name": "stderr",
     "output_type": "stream",
     "text": [
      "/tmp/ipykernel_516038/1713448311.py:32: RuntimeWarning: Using n_components=32 (resulting in n_components_=32) may lead to an unstable mixing matrix estimation because the ratio between the largest (16) and smallest (5.3e-14) variances is too large (> 1e6); consider setting n_components=0.999999 or an integer <= 26\n",
      "  ica.fit(raw)\n",
      "[Parallel(n_jobs=1)]: Done  17 tasks      | elapsed:    0.0s\n"
     ]
    },
    {
     "name": "stdout",
     "output_type": "stream",
     "text": [
      "Fitting ICA took 0.9s.\n",
      "Applying ICA to Raw instance\n",
      "    Transforming to ICA space (32 components)\n",
      "    Zeroing out 0 ICA components\n",
      "    Projecting back using 32 PCA components\n",
      "wzt index 7\n",
      "wzt segment_2d (32, 7680)\n",
      "Creating RawArray with float64 data, n_channels=32, n_times=7680\n",
      "    Range : 0 ... 7679 =      0.000 ...    59.992 secs\n",
      "Ready.\n",
      "Filtering raw data in 1 contiguous segment\n",
      "Setting up band-pass filter from 1 - 50 Hz\n",
      "\n",
      "FIR filter parameters\n",
      "---------------------\n",
      "Designing a one-pass, zero-phase, non-causal bandpass filter:\n",
      "- Windowed time-domain design (firwin) method\n",
      "- Hamming window with 0.0194 passband ripple and 53 dB stopband attenuation\n",
      "- Lower passband edge: 1.00\n",
      "- Lower transition bandwidth: 1.00 Hz (-6 dB cutoff frequency: 0.50 Hz)\n",
      "- Upper passband edge: 50.00 Hz\n",
      "- Upper transition bandwidth: 12.50 Hz (-6 dB cutoff frequency: 56.25 Hz)\n",
      "- Filter length: 423 samples (3.305 s)\n",
      "\n",
      "Fitting ICA to data using 32 channels (please be patient, this may take a while)\n",
      "Selecting by number: 32 components\n"
     ]
    },
    {
     "name": "stderr",
     "output_type": "stream",
     "text": [
      "/tmp/ipykernel_516038/1713448311.py:32: RuntimeWarning: Using n_components=32 (resulting in n_components_=32) may lead to an unstable mixing matrix estimation because the ratio between the largest (13) and smallest (1.1e-13) variances is too large (> 1e6); consider setting n_components=0.999999 or an integer <= 27\n",
      "  ica.fit(raw)\n",
      "[Parallel(n_jobs=1)]: Done  17 tasks      | elapsed:    0.0s\n"
     ]
    },
    {
     "name": "stdout",
     "output_type": "stream",
     "text": [
      "Fitting ICA took 0.7s.\n",
      "Applying ICA to Raw instance\n",
      "    Transforming to ICA space (32 components)\n",
      "    Zeroing out 0 ICA components\n",
      "    Projecting back using 32 PCA components\n",
      "wzt index 8\n",
      "wzt segment_2d (32, 7680)\n",
      "Creating RawArray with float64 data, n_channels=32, n_times=7680\n",
      "    Range : 0 ... 7679 =      0.000 ...    59.992 secs\n",
      "Ready.\n",
      "Filtering raw data in 1 contiguous segment\n",
      "Setting up band-pass filter from 1 - 50 Hz\n",
      "\n",
      "FIR filter parameters\n",
      "---------------------\n",
      "Designing a one-pass, zero-phase, non-causal bandpass filter:\n",
      "- Windowed time-domain design (firwin) method\n",
      "- Hamming window with 0.0194 passband ripple and 53 dB stopband attenuation\n",
      "- Lower passband edge: 1.00\n",
      "- Lower transition bandwidth: 1.00 Hz (-6 dB cutoff frequency: 0.50 Hz)\n",
      "- Upper passband edge: 50.00 Hz\n",
      "- Upper transition bandwidth: 12.50 Hz (-6 dB cutoff frequency: 56.25 Hz)\n",
      "- Filter length: 423 samples (3.305 s)\n",
      "\n",
      "Fitting ICA to data using 32 channels (please be patient, this may take a while)\n",
      "Selecting by number: 32 components\n"
     ]
    },
    {
     "name": "stderr",
     "output_type": "stream",
     "text": [
      "/tmp/ipykernel_516038/1713448311.py:32: RuntimeWarning: Using n_components=32 (resulting in n_components_=32) may lead to an unstable mixing matrix estimation because the ratio between the largest (14) and smallest (2.1e-13) variances is too large (> 1e6); consider setting n_components=0.999999 or an integer <= 27\n",
      "  ica.fit(raw)\n",
      "[Parallel(n_jobs=1)]: Done  17 tasks      | elapsed:    0.0s\n"
     ]
    },
    {
     "name": "stdout",
     "output_type": "stream",
     "text": [
      "Fitting ICA took 0.8s.\n",
      "Applying ICA to Raw instance\n",
      "    Transforming to ICA space (32 components)\n",
      "    Zeroing out 0 ICA components\n",
      "    Projecting back using 32 PCA components\n",
      "wzt index 9\n",
      "wzt segment_2d (32, 7680)\n",
      "Creating RawArray with float64 data, n_channels=32, n_times=7680\n",
      "    Range : 0 ... 7679 =      0.000 ...    59.992 secs\n",
      "Ready.\n",
      "Filtering raw data in 1 contiguous segment\n",
      "Setting up band-pass filter from 1 - 50 Hz\n",
      "\n",
      "FIR filter parameters\n",
      "---------------------\n",
      "Designing a one-pass, zero-phase, non-causal bandpass filter:\n",
      "- Windowed time-domain design (firwin) method\n",
      "- Hamming window with 0.0194 passband ripple and 53 dB stopband attenuation\n",
      "- Lower passband edge: 1.00\n",
      "- Lower transition bandwidth: 1.00 Hz (-6 dB cutoff frequency: 0.50 Hz)\n",
      "- Upper passband edge: 50.00 Hz\n",
      "- Upper transition bandwidth: 12.50 Hz (-6 dB cutoff frequency: 56.25 Hz)\n",
      "- Filter length: 423 samples (3.305 s)\n",
      "\n",
      "Fitting ICA to data using 32 channels (please be patient, this may take a while)\n",
      "Selecting by number: 32 components\n"
     ]
    },
    {
     "name": "stderr",
     "output_type": "stream",
     "text": [
      "/tmp/ipykernel_516038/1713448311.py:32: RuntimeWarning: Using n_components=32 (resulting in n_components_=32) may lead to an unstable mixing matrix estimation because the ratio between the largest (13) and smallest (1.2e-13) variances is too large (> 1e6); consider setting n_components=0.999999 or an integer <= 27\n",
      "  ica.fit(raw)\n",
      "[Parallel(n_jobs=1)]: Done  17 tasks      | elapsed:    0.0s\n"
     ]
    },
    {
     "name": "stdout",
     "output_type": "stream",
     "text": [
      "Fitting ICA took 1.0s.\n",
      "Applying ICA to Raw instance\n",
      "    Transforming to ICA space (32 components)\n",
      "    Zeroing out 0 ICA components\n",
      "    Projecting back using 32 PCA components\n",
      "wzt index 10\n",
      "wzt segment_2d (32, 7680)\n",
      "Creating RawArray with float64 data, n_channels=32, n_times=7680\n",
      "    Range : 0 ... 7679 =      0.000 ...    59.992 secs\n",
      "Ready.\n",
      "Filtering raw data in 1 contiguous segment\n",
      "Setting up band-pass filter from 1 - 50 Hz\n",
      "\n",
      "FIR filter parameters\n",
      "---------------------\n",
      "Designing a one-pass, zero-phase, non-causal bandpass filter:\n",
      "- Windowed time-domain design (firwin) method\n",
      "- Hamming window with 0.0194 passband ripple and 53 dB stopband attenuation\n",
      "- Lower passband edge: 1.00\n",
      "- Lower transition bandwidth: 1.00 Hz (-6 dB cutoff frequency: 0.50 Hz)\n",
      "- Upper passband edge: 50.00 Hz\n",
      "- Upper transition bandwidth: 12.50 Hz (-6 dB cutoff frequency: 56.25 Hz)\n",
      "- Filter length: 423 samples (3.305 s)\n",
      "\n",
      "Fitting ICA to data using 32 channels (please be patient, this may take a while)\n",
      "Selecting by number: 32 components\n"
     ]
    },
    {
     "name": "stderr",
     "output_type": "stream",
     "text": [
      "/tmp/ipykernel_516038/1713448311.py:32: RuntimeWarning: Using n_components=32 (resulting in n_components_=32) may lead to an unstable mixing matrix estimation because the ratio between the largest (15) and smallest (9.9e-14) variances is too large (> 1e6); consider setting n_components=0.999999 or an integer <= 27\n",
      "  ica.fit(raw)\n",
      "[Parallel(n_jobs=1)]: Done  17 tasks      | elapsed:    0.0s\n"
     ]
    },
    {
     "name": "stdout",
     "output_type": "stream",
     "text": [
      "Fitting ICA took 1.0s.\n",
      "Applying ICA to Raw instance\n",
      "    Transforming to ICA space (32 components)\n",
      "    Zeroing out 0 ICA components\n",
      "    Projecting back using 32 PCA components\n",
      "wzt index 11\n",
      "wzt segment_2d (32, 7680)\n",
      "Creating RawArray with float64 data, n_channels=32, n_times=7680\n",
      "    Range : 0 ... 7679 =      0.000 ...    59.992 secs\n",
      "Ready.\n",
      "Filtering raw data in 1 contiguous segment\n",
      "Setting up band-pass filter from 1 - 50 Hz\n",
      "\n",
      "FIR filter parameters\n",
      "---------------------\n",
      "Designing a one-pass, zero-phase, non-causal bandpass filter:\n",
      "- Windowed time-domain design (firwin) method\n",
      "- Hamming window with 0.0194 passband ripple and 53 dB stopband attenuation\n",
      "- Lower passband edge: 1.00\n",
      "- Lower transition bandwidth: 1.00 Hz (-6 dB cutoff frequency: 0.50 Hz)\n",
      "- Upper passband edge: 50.00 Hz\n",
      "- Upper transition bandwidth: 12.50 Hz (-6 dB cutoff frequency: 56.25 Hz)\n",
      "- Filter length: 423 samples (3.305 s)\n",
      "\n",
      "Fitting ICA to data using 32 channels (please be patient, this may take a while)\n",
      "Selecting by number: 32 components\n"
     ]
    },
    {
     "name": "stderr",
     "output_type": "stream",
     "text": [
      "/tmp/ipykernel_516038/1713448311.py:32: RuntimeWarning: Using n_components=32 (resulting in n_components_=32) may lead to an unstable mixing matrix estimation because the ratio between the largest (15) and smallest (6.3e-14) variances is too large (> 1e6); consider setting n_components=0.999999 or an integer <= 26\n",
      "  ica.fit(raw)\n",
      "[Parallel(n_jobs=1)]: Done  17 tasks      | elapsed:    0.0s\n"
     ]
    },
    {
     "name": "stdout",
     "output_type": "stream",
     "text": [
      "Fitting ICA took 0.8s.\n",
      "Applying ICA to Raw instance\n",
      "    Transforming to ICA space (32 components)\n",
      "    Zeroing out 0 ICA components\n",
      "    Projecting back using 32 PCA components\n",
      "wzt index 12\n",
      "wzt segment_2d (32, 7680)\n",
      "Creating RawArray with float64 data, n_channels=32, n_times=7680\n",
      "    Range : 0 ... 7679 =      0.000 ...    59.992 secs\n",
      "Ready.\n",
      "Filtering raw data in 1 contiguous segment\n",
      "Setting up band-pass filter from 1 - 50 Hz\n",
      "\n",
      "FIR filter parameters\n",
      "---------------------\n",
      "Designing a one-pass, zero-phase, non-causal bandpass filter:\n",
      "- Windowed time-domain design (firwin) method\n",
      "- Hamming window with 0.0194 passband ripple and 53 dB stopband attenuation\n",
      "- Lower passband edge: 1.00\n",
      "- Lower transition bandwidth: 1.00 Hz (-6 dB cutoff frequency: 0.50 Hz)\n",
      "- Upper passband edge: 50.00 Hz\n",
      "- Upper transition bandwidth: 12.50 Hz (-6 dB cutoff frequency: 56.25 Hz)\n",
      "- Filter length: 423 samples (3.305 s)\n",
      "\n",
      "Fitting ICA to data using 32 channels (please be patient, this may take a while)\n",
      "Selecting by number: 32 components\n"
     ]
    },
    {
     "name": "stderr",
     "output_type": "stream",
     "text": [
      "/tmp/ipykernel_516038/1713448311.py:32: RuntimeWarning: Using n_components=32 (resulting in n_components_=32) may lead to an unstable mixing matrix estimation because the ratio between the largest (14) and smallest (4.7e-14) variances is too large (> 1e6); consider setting n_components=0.999999 or an integer <= 26\n",
      "  ica.fit(raw)\n",
      "[Parallel(n_jobs=1)]: Done  17 tasks      | elapsed:    0.0s\n"
     ]
    },
    {
     "name": "stdout",
     "output_type": "stream",
     "text": [
      "Fitting ICA took 0.9s.\n",
      "Applying ICA to Raw instance\n",
      "    Transforming to ICA space (32 components)\n",
      "    Zeroing out 0 ICA components\n",
      "    Projecting back using 32 PCA components\n",
      "wzt index 13\n",
      "wzt segment_2d (32, 7680)\n",
      "Creating RawArray with float64 data, n_channels=32, n_times=7680\n",
      "    Range : 0 ... 7679 =      0.000 ...    59.992 secs\n",
      "Ready.\n",
      "Filtering raw data in 1 contiguous segment\n",
      "Setting up band-pass filter from 1 - 50 Hz\n",
      "\n",
      "FIR filter parameters\n",
      "---------------------\n",
      "Designing a one-pass, zero-phase, non-causal bandpass filter:\n",
      "- Windowed time-domain design (firwin) method\n",
      "- Hamming window with 0.0194 passband ripple and 53 dB stopband attenuation\n",
      "- Lower passband edge: 1.00\n",
      "- Lower transition bandwidth: 1.00 Hz (-6 dB cutoff frequency: 0.50 Hz)\n",
      "- Upper passband edge: 50.00 Hz\n",
      "- Upper transition bandwidth: 12.50 Hz (-6 dB cutoff frequency: 56.25 Hz)\n",
      "- Filter length: 423 samples (3.305 s)\n",
      "\n",
      "Fitting ICA to data using 32 channels (please be patient, this may take a while)\n",
      "Selecting by number: 32 components\n"
     ]
    },
    {
     "name": "stderr",
     "output_type": "stream",
     "text": [
      "/tmp/ipykernel_516038/1713448311.py:32: RuntimeWarning: Using n_components=32 (resulting in n_components_=32) may lead to an unstable mixing matrix estimation because the ratio between the largest (13) and smallest (7.7e-14) variances is too large (> 1e6); consider setting n_components=0.999999 or an integer <= 26\n",
      "  ica.fit(raw)\n",
      "[Parallel(n_jobs=1)]: Done  17 tasks      | elapsed:    0.0s\n"
     ]
    },
    {
     "name": "stdout",
     "output_type": "stream",
     "text": [
      "Fitting ICA took 0.7s.\n",
      "Applying ICA to Raw instance\n",
      "    Transforming to ICA space (32 components)\n",
      "    Zeroing out 0 ICA components\n",
      "    Projecting back using 32 PCA components\n",
      "wzt index 14\n",
      "wzt segment_2d (32, 7680)\n",
      "Creating RawArray with float64 data, n_channels=32, n_times=7680\n",
      "    Range : 0 ... 7679 =      0.000 ...    59.992 secs\n",
      "Ready.\n",
      "Filtering raw data in 1 contiguous segment\n",
      "Setting up band-pass filter from 1 - 50 Hz\n",
      "\n",
      "FIR filter parameters\n",
      "---------------------\n",
      "Designing a one-pass, zero-phase, non-causal bandpass filter:\n",
      "- Windowed time-domain design (firwin) method\n",
      "- Hamming window with 0.0194 passband ripple and 53 dB stopband attenuation\n",
      "- Lower passband edge: 1.00\n",
      "- Lower transition bandwidth: 1.00 Hz (-6 dB cutoff frequency: 0.50 Hz)\n",
      "- Upper passband edge: 50.00 Hz\n",
      "- Upper transition bandwidth: 12.50 Hz (-6 dB cutoff frequency: 56.25 Hz)\n",
      "- Filter length: 423 samples (3.305 s)\n",
      "\n",
      "Fitting ICA to data using 32 channels (please be patient, this may take a while)\n",
      "Selecting by number: 32 components\n"
     ]
    },
    {
     "name": "stderr",
     "output_type": "stream",
     "text": [
      "/tmp/ipykernel_516038/1713448311.py:32: RuntimeWarning: Using n_components=32 (resulting in n_components_=32) may lead to an unstable mixing matrix estimation because the ratio between the largest (14) and smallest (7.5e-14) variances is too large (> 1e6); consider setting n_components=0.999999 or an integer <= 26\n",
      "  ica.fit(raw)\n",
      "[Parallel(n_jobs=1)]: Done  17 tasks      | elapsed:    0.0s\n"
     ]
    },
    {
     "name": "stdout",
     "output_type": "stream",
     "text": [
      "Fitting ICA took 0.6s.\n",
      "Applying ICA to Raw instance\n",
      "    Transforming to ICA space (32 components)\n",
      "    Zeroing out 0 ICA components\n",
      "    Projecting back using 32 PCA components\n",
      "wzt index 15\n",
      "wzt segment_2d (32, 7680)\n",
      "Creating RawArray with float64 data, n_channels=32, n_times=7680\n",
      "    Range : 0 ... 7679 =      0.000 ...    59.992 secs\n",
      "Ready.\n",
      "Filtering raw data in 1 contiguous segment\n",
      "Setting up band-pass filter from 1 - 50 Hz\n",
      "\n",
      "FIR filter parameters\n",
      "---------------------\n",
      "Designing a one-pass, zero-phase, non-causal bandpass filter:\n",
      "- Windowed time-domain design (firwin) method\n",
      "- Hamming window with 0.0194 passband ripple and 53 dB stopband attenuation\n",
      "- Lower passband edge: 1.00\n",
      "- Lower transition bandwidth: 1.00 Hz (-6 dB cutoff frequency: 0.50 Hz)\n",
      "- Upper passband edge: 50.00 Hz\n",
      "- Upper transition bandwidth: 12.50 Hz (-6 dB cutoff frequency: 56.25 Hz)\n",
      "- Filter length: 423 samples (3.305 s)\n",
      "\n",
      "Fitting ICA to data using 32 channels (please be patient, this may take a while)\n",
      "Selecting by number: 32 components\n"
     ]
    },
    {
     "name": "stderr",
     "output_type": "stream",
     "text": [
      "/tmp/ipykernel_516038/1713448311.py:32: RuntimeWarning: Using n_components=32 (resulting in n_components_=32) may lead to an unstable mixing matrix estimation because the ratio between the largest (17) and smallest (8.8e-14) variances is too large (> 1e6); consider setting n_components=0.999999 or an integer <= 26\n",
      "  ica.fit(raw)\n",
      "[Parallel(n_jobs=1)]: Done  17 tasks      | elapsed:    0.0s\n"
     ]
    },
    {
     "name": "stdout",
     "output_type": "stream",
     "text": [
      "Fitting ICA took 0.8s.\n",
      "Applying ICA to Raw instance\n",
      "    Transforming to ICA space (32 components)\n",
      "    Zeroing out 0 ICA components\n",
      "    Projecting back using 32 PCA components\n",
      "wzt index 16\n",
      "wzt segment_2d (32, 7680)\n",
      "Creating RawArray with float64 data, n_channels=32, n_times=7680\n",
      "    Range : 0 ... 7679 =      0.000 ...    59.992 secs\n",
      "Ready.\n",
      "Filtering raw data in 1 contiguous segment\n",
      "Setting up band-pass filter from 1 - 50 Hz\n",
      "\n",
      "FIR filter parameters\n",
      "---------------------\n",
      "Designing a one-pass, zero-phase, non-causal bandpass filter:\n",
      "- Windowed time-domain design (firwin) method\n",
      "- Hamming window with 0.0194 passband ripple and 53 dB stopband attenuation\n",
      "- Lower passband edge: 1.00\n",
      "- Lower transition bandwidth: 1.00 Hz (-6 dB cutoff frequency: 0.50 Hz)\n",
      "- Upper passband edge: 50.00 Hz\n",
      "- Upper transition bandwidth: 12.50 Hz (-6 dB cutoff frequency: 56.25 Hz)\n",
      "- Filter length: 423 samples (3.305 s)\n",
      "\n",
      "Fitting ICA to data using 32 channels (please be patient, this may take a while)\n",
      "Selecting by number: 32 components\n"
     ]
    },
    {
     "name": "stderr",
     "output_type": "stream",
     "text": [
      "/tmp/ipykernel_516038/1713448311.py:32: RuntimeWarning: Using n_components=32 (resulting in n_components_=32) may lead to an unstable mixing matrix estimation because the ratio between the largest (15) and smallest (9.7e-14) variances is too large (> 1e6); consider setting n_components=0.999999 or an integer <= 26\n",
      "  ica.fit(raw)\n",
      "[Parallel(n_jobs=1)]: Done  17 tasks      | elapsed:    0.0s\n"
     ]
    },
    {
     "name": "stdout",
     "output_type": "stream",
     "text": [
      "Fitting ICA took 0.6s.\n",
      "Applying ICA to Raw instance\n",
      "    Transforming to ICA space (32 components)\n",
      "    Zeroing out 0 ICA components\n",
      "    Projecting back using 32 PCA components\n",
      "wzt index 17\n",
      "wzt segment_2d (32, 7680)\n",
      "Creating RawArray with float64 data, n_channels=32, n_times=7680\n",
      "    Range : 0 ... 7679 =      0.000 ...    59.992 secs\n",
      "Ready.\n",
      "Filtering raw data in 1 contiguous segment\n",
      "Setting up band-pass filter from 1 - 50 Hz\n",
      "\n",
      "FIR filter parameters\n",
      "---------------------\n",
      "Designing a one-pass, zero-phase, non-causal bandpass filter:\n",
      "- Windowed time-domain design (firwin) method\n",
      "- Hamming window with 0.0194 passband ripple and 53 dB stopband attenuation\n",
      "- Lower passband edge: 1.00\n",
      "- Lower transition bandwidth: 1.00 Hz (-6 dB cutoff frequency: 0.50 Hz)\n",
      "- Upper passband edge: 50.00 Hz\n",
      "- Upper transition bandwidth: 12.50 Hz (-6 dB cutoff frequency: 56.25 Hz)\n",
      "- Filter length: 423 samples (3.305 s)\n",
      "\n",
      "Fitting ICA to data using 32 channels (please be patient, this may take a while)\n",
      "Selecting by number: 32 components\n"
     ]
    },
    {
     "name": "stderr",
     "output_type": "stream",
     "text": [
      "/tmp/ipykernel_516038/1713448311.py:32: RuntimeWarning: Using n_components=32 (resulting in n_components_=32) may lead to an unstable mixing matrix estimation because the ratio between the largest (15) and smallest (5.9e-14) variances is too large (> 1e6); consider setting n_components=0.999999 or an integer <= 26\n",
      "  ica.fit(raw)\n",
      "[Parallel(n_jobs=1)]: Done  17 tasks      | elapsed:    0.0s\n"
     ]
    },
    {
     "name": "stdout",
     "output_type": "stream",
     "text": [
      "Fitting ICA took 0.7s.\n",
      "Applying ICA to Raw instance\n",
      "    Transforming to ICA space (32 components)\n",
      "    Zeroing out 0 ICA components\n",
      "    Projecting back using 32 PCA components\n",
      "wzt index 18\n",
      "wzt segment_2d (32, 7680)\n",
      "Creating RawArray with float64 data, n_channels=32, n_times=7680\n",
      "    Range : 0 ... 7679 =      0.000 ...    59.992 secs\n",
      "Ready.\n",
      "Filtering raw data in 1 contiguous segment\n",
      "Setting up band-pass filter from 1 - 50 Hz\n",
      "\n",
      "FIR filter parameters\n",
      "---------------------\n",
      "Designing a one-pass, zero-phase, non-causal bandpass filter:\n",
      "- Windowed time-domain design (firwin) method\n",
      "- Hamming window with 0.0194 passband ripple and 53 dB stopband attenuation\n",
      "- Lower passband edge: 1.00\n",
      "- Lower transition bandwidth: 1.00 Hz (-6 dB cutoff frequency: 0.50 Hz)\n",
      "- Upper passband edge: 50.00 Hz\n",
      "- Upper transition bandwidth: 12.50 Hz (-6 dB cutoff frequency: 56.25 Hz)\n",
      "- Filter length: 423 samples (3.305 s)\n",
      "\n",
      "Fitting ICA to data using 32 channels (please be patient, this may take a while)\n",
      "Selecting by number: 32 components\n"
     ]
    },
    {
     "name": "stderr",
     "output_type": "stream",
     "text": [
      "/tmp/ipykernel_516038/1713448311.py:32: RuntimeWarning: Using n_components=32 (resulting in n_components_=32) may lead to an unstable mixing matrix estimation because the ratio between the largest (18) and smallest (5.8e-14) variances is too large (> 1e6); consider setting n_components=0.999999 or an integer <= 26\n",
      "  ica.fit(raw)\n",
      "[Parallel(n_jobs=1)]: Done  17 tasks      | elapsed:    0.0s\n"
     ]
    },
    {
     "name": "stdout",
     "output_type": "stream",
     "text": [
      "Fitting ICA took 0.7s.\n",
      "Applying ICA to Raw instance\n",
      "    Transforming to ICA space (32 components)\n",
      "    Zeroing out 0 ICA components\n",
      "    Projecting back using 32 PCA components\n",
      "wzt index 19\n",
      "wzt segment_2d (32, 7680)\n",
      "Creating RawArray with float64 data, n_channels=32, n_times=7680\n",
      "    Range : 0 ... 7679 =      0.000 ...    59.992 secs\n",
      "Ready.\n",
      "Filtering raw data in 1 contiguous segment\n",
      "Setting up band-pass filter from 1 - 50 Hz\n",
      "\n",
      "FIR filter parameters\n",
      "---------------------\n",
      "Designing a one-pass, zero-phase, non-causal bandpass filter:\n",
      "- Windowed time-domain design (firwin) method\n",
      "- Hamming window with 0.0194 passband ripple and 53 dB stopband attenuation\n",
      "- Lower passband edge: 1.00\n",
      "- Lower transition bandwidth: 1.00 Hz (-6 dB cutoff frequency: 0.50 Hz)\n",
      "- Upper passband edge: 50.00 Hz\n",
      "- Upper transition bandwidth: 12.50 Hz (-6 dB cutoff frequency: 56.25 Hz)\n",
      "- Filter length: 423 samples (3.305 s)\n",
      "\n",
      "Fitting ICA to data using 32 channels (please be patient, this may take a while)\n",
      "Selecting by number: 32 components\n"
     ]
    },
    {
     "name": "stderr",
     "output_type": "stream",
     "text": [
      "/tmp/ipykernel_516038/1713448311.py:32: RuntimeWarning: Using n_components=32 (resulting in n_components_=32) may lead to an unstable mixing matrix estimation because the ratio between the largest (16) and smallest (3.4e-14) variances is too large (> 1e6); consider setting n_components=0.999999 or an integer <= 26\n",
      "  ica.fit(raw)\n",
      "[Parallel(n_jobs=1)]: Done  17 tasks      | elapsed:    0.0s\n"
     ]
    },
    {
     "name": "stdout",
     "output_type": "stream",
     "text": [
      "Fitting ICA took 0.6s.\n",
      "Applying ICA to Raw instance\n",
      "    Transforming to ICA space (32 components)\n",
      "    Zeroing out 0 ICA components\n",
      "    Projecting back using 32 PCA components\n",
      "wzt index 20\n",
      "wzt segment_2d (32, 7680)\n",
      "Creating RawArray with float64 data, n_channels=32, n_times=7680\n",
      "    Range : 0 ... 7679 =      0.000 ...    59.992 secs\n",
      "Ready.\n",
      "Filtering raw data in 1 contiguous segment\n",
      "Setting up band-pass filter from 1 - 50 Hz\n",
      "\n",
      "FIR filter parameters\n",
      "---------------------\n",
      "Designing a one-pass, zero-phase, non-causal bandpass filter:\n",
      "- Windowed time-domain design (firwin) method\n",
      "- Hamming window with 0.0194 passband ripple and 53 dB stopband attenuation\n",
      "- Lower passband edge: 1.00\n",
      "- Lower transition bandwidth: 1.00 Hz (-6 dB cutoff frequency: 0.50 Hz)\n",
      "- Upper passband edge: 50.00 Hz\n",
      "- Upper transition bandwidth: 12.50 Hz (-6 dB cutoff frequency: 56.25 Hz)\n",
      "- Filter length: 423 samples (3.305 s)\n",
      "\n",
      "Fitting ICA to data using 32 channels (please be patient, this may take a while)\n",
      "Selecting by number: 32 components\n"
     ]
    },
    {
     "name": "stderr",
     "output_type": "stream",
     "text": [
      "/tmp/ipykernel_516038/1713448311.py:32: RuntimeWarning: Using n_components=32 (resulting in n_components_=32) may lead to an unstable mixing matrix estimation because the ratio between the largest (14) and smallest (6.5e-14) variances is too large (> 1e6); consider setting n_components=0.999999 or an integer <= 26\n",
      "  ica.fit(raw)\n",
      "[Parallel(n_jobs=1)]: Done  17 tasks      | elapsed:    0.0s\n"
     ]
    },
    {
     "name": "stdout",
     "output_type": "stream",
     "text": [
      "Fitting ICA took 0.8s.\n",
      "Applying ICA to Raw instance\n",
      "    Transforming to ICA space (32 components)\n",
      "    Zeroing out 0 ICA components\n",
      "    Projecting back using 32 PCA components\n",
      "wzt index 21\n",
      "wzt segment_2d (32, 7680)\n",
      "Creating RawArray with float64 data, n_channels=32, n_times=7680\n",
      "    Range : 0 ... 7679 =      0.000 ...    59.992 secs\n",
      "Ready.\n",
      "Filtering raw data in 1 contiguous segment\n",
      "Setting up band-pass filter from 1 - 50 Hz\n",
      "\n",
      "FIR filter parameters\n",
      "---------------------\n",
      "Designing a one-pass, zero-phase, non-causal bandpass filter:\n",
      "- Windowed time-domain design (firwin) method\n",
      "- Hamming window with 0.0194 passband ripple and 53 dB stopband attenuation\n",
      "- Lower passband edge: 1.00\n",
      "- Lower transition bandwidth: 1.00 Hz (-6 dB cutoff frequency: 0.50 Hz)\n",
      "- Upper passband edge: 50.00 Hz\n",
      "- Upper transition bandwidth: 12.50 Hz (-6 dB cutoff frequency: 56.25 Hz)\n",
      "- Filter length: 423 samples (3.305 s)\n",
      "\n",
      "Fitting ICA to data using 32 channels (please be patient, this may take a while)\n",
      "Selecting by number: 32 components\n"
     ]
    },
    {
     "name": "stderr",
     "output_type": "stream",
     "text": [
      "/tmp/ipykernel_516038/1713448311.py:32: RuntimeWarning: Using n_components=32 (resulting in n_components_=32) may lead to an unstable mixing matrix estimation because the ratio between the largest (13) and smallest (1e-13) variances is too large (> 1e6); consider setting n_components=0.999999 or an integer <= 27\n",
      "  ica.fit(raw)\n",
      "[Parallel(n_jobs=1)]: Done  17 tasks      | elapsed:    0.0s\n"
     ]
    },
    {
     "name": "stdout",
     "output_type": "stream",
     "text": [
      "Fitting ICA took 0.6s.\n",
      "Applying ICA to Raw instance\n",
      "    Transforming to ICA space (32 components)\n",
      "    Zeroing out 0 ICA components\n",
      "    Projecting back using 32 PCA components\n",
      "wzt index 22\n",
      "wzt segment_2d (32, 7680)\n",
      "Creating RawArray with float64 data, n_channels=32, n_times=7680\n",
      "    Range : 0 ... 7679 =      0.000 ...    59.992 secs\n",
      "Ready.\n",
      "Filtering raw data in 1 contiguous segment\n",
      "Setting up band-pass filter from 1 - 50 Hz\n",
      "\n",
      "FIR filter parameters\n",
      "---------------------\n",
      "Designing a one-pass, zero-phase, non-causal bandpass filter:\n",
      "- Windowed time-domain design (firwin) method\n",
      "- Hamming window with 0.0194 passband ripple and 53 dB stopband attenuation\n",
      "- Lower passband edge: 1.00\n",
      "- Lower transition bandwidth: 1.00 Hz (-6 dB cutoff frequency: 0.50 Hz)\n",
      "- Upper passband edge: 50.00 Hz\n",
      "- Upper transition bandwidth: 12.50 Hz (-6 dB cutoff frequency: 56.25 Hz)\n",
      "- Filter length: 423 samples (3.305 s)\n",
      "\n",
      "Fitting ICA to data using 32 channels (please be patient, this may take a while)\n",
      "Selecting by number: 32 components\n"
     ]
    },
    {
     "name": "stderr",
     "output_type": "stream",
     "text": [
      "/tmp/ipykernel_516038/1713448311.py:32: RuntimeWarning: Using n_components=32 (resulting in n_components_=32) may lead to an unstable mixing matrix estimation because the ratio between the largest (14) and smallest (3.9e-14) variances is too large (> 1e6); consider setting n_components=0.999999 or an integer <= 26\n",
      "  ica.fit(raw)\n",
      "[Parallel(n_jobs=1)]: Done  17 tasks      | elapsed:    0.0s\n"
     ]
    },
    {
     "name": "stdout",
     "output_type": "stream",
     "text": [
      "Fitting ICA took 0.9s.\n",
      "Applying ICA to Raw instance\n",
      "    Transforming to ICA space (32 components)\n",
      "    Zeroing out 0 ICA components\n",
      "    Projecting back using 32 PCA components\n",
      "wzt index 23\n",
      "wzt segment_2d (32, 7680)\n",
      "Creating RawArray with float64 data, n_channels=32, n_times=7680\n",
      "    Range : 0 ... 7679 =      0.000 ...    59.992 secs\n",
      "Ready.\n",
      "Filtering raw data in 1 contiguous segment\n",
      "Setting up band-pass filter from 1 - 50 Hz\n",
      "\n",
      "FIR filter parameters\n",
      "---------------------\n",
      "Designing a one-pass, zero-phase, non-causal bandpass filter:\n",
      "- Windowed time-domain design (firwin) method\n",
      "- Hamming window with 0.0194 passband ripple and 53 dB stopband attenuation\n",
      "- Lower passband edge: 1.00\n",
      "- Lower transition bandwidth: 1.00 Hz (-6 dB cutoff frequency: 0.50 Hz)\n",
      "- Upper passband edge: 50.00 Hz\n",
      "- Upper transition bandwidth: 12.50 Hz (-6 dB cutoff frequency: 56.25 Hz)\n",
      "- Filter length: 423 samples (3.305 s)\n",
      "\n",
      "Fitting ICA to data using 32 channels (please be patient, this may take a while)\n",
      "Selecting by number: 32 components\n"
     ]
    },
    {
     "name": "stderr",
     "output_type": "stream",
     "text": [
      "/tmp/ipykernel_516038/1713448311.py:32: RuntimeWarning: Using n_components=32 (resulting in n_components_=32) may lead to an unstable mixing matrix estimation because the ratio between the largest (13) and smallest (2.8e-14) variances is too large (> 1e6); consider setting n_components=0.999999 or an integer <= 26\n",
      "  ica.fit(raw)\n",
      "[Parallel(n_jobs=1)]: Done  17 tasks      | elapsed:    0.0s\n"
     ]
    },
    {
     "name": "stdout",
     "output_type": "stream",
     "text": [
      "Fitting ICA took 0.8s.\n",
      "Applying ICA to Raw instance\n",
      "    Transforming to ICA space (32 components)\n",
      "    Zeroing out 0 ICA components\n",
      "    Projecting back using 32 PCA components\n",
      "wzt index 24\n",
      "wzt segment_2d (32, 7680)\n",
      "Creating RawArray with float64 data, n_channels=32, n_times=7680\n",
      "    Range : 0 ... 7679 =      0.000 ...    59.992 secs\n",
      "Ready.\n",
      "Filtering raw data in 1 contiguous segment\n",
      "Setting up band-pass filter from 1 - 50 Hz\n",
      "\n",
      "FIR filter parameters\n",
      "---------------------\n",
      "Designing a one-pass, zero-phase, non-causal bandpass filter:\n",
      "- Windowed time-domain design (firwin) method\n",
      "- Hamming window with 0.0194 passband ripple and 53 dB stopband attenuation\n",
      "- Lower passband edge: 1.00\n",
      "- Lower transition bandwidth: 1.00 Hz (-6 dB cutoff frequency: 0.50 Hz)\n",
      "- Upper passband edge: 50.00 Hz\n",
      "- Upper transition bandwidth: 12.50 Hz (-6 dB cutoff frequency: 56.25 Hz)\n",
      "- Filter length: 423 samples (3.305 s)\n",
      "\n",
      "Fitting ICA to data using 32 channels (please be patient, this may take a while)\n",
      "Selecting by number: 32 components\n"
     ]
    },
    {
     "name": "stderr",
     "output_type": "stream",
     "text": [
      "/tmp/ipykernel_516038/1713448311.py:32: RuntimeWarning: Using n_components=32 (resulting in n_components_=32) may lead to an unstable mixing matrix estimation because the ratio between the largest (14) and smallest (2.3e-13) variances is too large (> 1e6); consider setting n_components=0.999999 or an integer <= 27\n",
      "  ica.fit(raw)\n",
      "[Parallel(n_jobs=1)]: Done  17 tasks      | elapsed:    0.0s\n"
     ]
    },
    {
     "name": "stdout",
     "output_type": "stream",
     "text": [
      "Fitting ICA took 0.8s.\n",
      "Applying ICA to Raw instance\n",
      "    Transforming to ICA space (32 components)\n",
      "    Zeroing out 0 ICA components\n",
      "    Projecting back using 32 PCA components\n",
      "wzt index 25\n",
      "wzt segment_2d (32, 7680)\n",
      "Creating RawArray with float64 data, n_channels=32, n_times=7680\n",
      "    Range : 0 ... 7679 =      0.000 ...    59.992 secs\n",
      "Ready.\n",
      "Filtering raw data in 1 contiguous segment\n",
      "Setting up band-pass filter from 1 - 50 Hz\n",
      "\n",
      "FIR filter parameters\n",
      "---------------------\n",
      "Designing a one-pass, zero-phase, non-causal bandpass filter:\n",
      "- Windowed time-domain design (firwin) method\n",
      "- Hamming window with 0.0194 passband ripple and 53 dB stopband attenuation\n",
      "- Lower passband edge: 1.00\n",
      "- Lower transition bandwidth: 1.00 Hz (-6 dB cutoff frequency: 0.50 Hz)\n",
      "- Upper passband edge: 50.00 Hz\n",
      "- Upper transition bandwidth: 12.50 Hz (-6 dB cutoff frequency: 56.25 Hz)\n",
      "- Filter length: 423 samples (3.305 s)\n",
      "\n",
      "Fitting ICA to data using 32 channels (please be patient, this may take a while)\n",
      "Selecting by number: 32 components\n"
     ]
    },
    {
     "name": "stderr",
     "output_type": "stream",
     "text": [
      "/tmp/ipykernel_516038/1713448311.py:32: RuntimeWarning: Using n_components=32 (resulting in n_components_=32) may lead to an unstable mixing matrix estimation because the ratio between the largest (13) and smallest (1.1e-13) variances is too large (> 1e6); consider setting n_components=0.999999 or an integer <= 27\n",
      "  ica.fit(raw)\n",
      "[Parallel(n_jobs=1)]: Done  17 tasks      | elapsed:    0.0s\n"
     ]
    },
    {
     "name": "stdout",
     "output_type": "stream",
     "text": [
      "Fitting ICA took 0.8s.\n",
      "Applying ICA to Raw instance\n",
      "    Transforming to ICA space (32 components)\n",
      "    Zeroing out 0 ICA components\n",
      "    Projecting back using 32 PCA components\n",
      "wzt index 26\n",
      "wzt segment_2d (32, 7680)\n",
      "Creating RawArray with float64 data, n_channels=32, n_times=7680\n",
      "    Range : 0 ... 7679 =      0.000 ...    59.992 secs\n",
      "Ready.\n",
      "Filtering raw data in 1 contiguous segment\n",
      "Setting up band-pass filter from 1 - 50 Hz\n",
      "\n",
      "FIR filter parameters\n",
      "---------------------\n",
      "Designing a one-pass, zero-phase, non-causal bandpass filter:\n",
      "- Windowed time-domain design (firwin) method\n",
      "- Hamming window with 0.0194 passband ripple and 53 dB stopband attenuation\n",
      "- Lower passband edge: 1.00\n",
      "- Lower transition bandwidth: 1.00 Hz (-6 dB cutoff frequency: 0.50 Hz)\n",
      "- Upper passband edge: 50.00 Hz\n",
      "- Upper transition bandwidth: 12.50 Hz (-6 dB cutoff frequency: 56.25 Hz)\n",
      "- Filter length: 423 samples (3.305 s)\n",
      "\n",
      "Fitting ICA to data using 32 channels (please be patient, this may take a while)\n",
      "Selecting by number: 32 components\n"
     ]
    },
    {
     "name": "stderr",
     "output_type": "stream",
     "text": [
      "/tmp/ipykernel_516038/1713448311.py:32: RuntimeWarning: Using n_components=32 (resulting in n_components_=32) may lead to an unstable mixing matrix estimation because the ratio between the largest (15) and smallest (4.6e-14) variances is too large (> 1e6); consider setting n_components=0.999999 or an integer <= 26\n",
      "  ica.fit(raw)\n",
      "[Parallel(n_jobs=1)]: Done  17 tasks      | elapsed:    0.0s\n"
     ]
    },
    {
     "name": "stdout",
     "output_type": "stream",
     "text": [
      "Fitting ICA took 0.7s.\n",
      "Applying ICA to Raw instance\n",
      "    Transforming to ICA space (32 components)\n",
      "    Zeroing out 0 ICA components\n",
      "    Projecting back using 32 PCA components\n",
      "wzt index 27\n",
      "wzt segment_2d (32, 7680)\n",
      "Creating RawArray with float64 data, n_channels=32, n_times=7680\n",
      "    Range : 0 ... 7679 =      0.000 ...    59.992 secs\n",
      "Ready.\n",
      "Filtering raw data in 1 contiguous segment\n",
      "Setting up band-pass filter from 1 - 50 Hz\n",
      "\n",
      "FIR filter parameters\n",
      "---------------------\n",
      "Designing a one-pass, zero-phase, non-causal bandpass filter:\n",
      "- Windowed time-domain design (firwin) method\n",
      "- Hamming window with 0.0194 passband ripple and 53 dB stopband attenuation\n",
      "- Lower passband edge: 1.00\n",
      "- Lower transition bandwidth: 1.00 Hz (-6 dB cutoff frequency: 0.50 Hz)\n",
      "- Upper passband edge: 50.00 Hz\n",
      "- Upper transition bandwidth: 12.50 Hz (-6 dB cutoff frequency: 56.25 Hz)\n",
      "- Filter length: 423 samples (3.305 s)\n",
      "\n",
      "Fitting ICA to data using 32 channels (please be patient, this may take a while)\n",
      "Selecting by number: 32 components\n"
     ]
    },
    {
     "name": "stderr",
     "output_type": "stream",
     "text": [
      "/tmp/ipykernel_516038/1713448311.py:32: RuntimeWarning: Using n_components=32 (resulting in n_components_=32) may lead to an unstable mixing matrix estimation because the ratio between the largest (14) and smallest (4.2e-14) variances is too large (> 1e6); consider setting n_components=0.999999 or an integer <= 26\n",
      "  ica.fit(raw)\n",
      "[Parallel(n_jobs=1)]: Done  17 tasks      | elapsed:    0.0s\n"
     ]
    },
    {
     "name": "stdout",
     "output_type": "stream",
     "text": [
      "Fitting ICA took 0.7s.\n",
      "Applying ICA to Raw instance\n",
      "    Transforming to ICA space (32 components)\n",
      "    Zeroing out 0 ICA components\n",
      "    Projecting back using 32 PCA components\n",
      "wzt index 28\n",
      "wzt segment_2d (32, 7680)\n",
      "Creating RawArray with float64 data, n_channels=32, n_times=7680\n",
      "    Range : 0 ... 7679 =      0.000 ...    59.992 secs\n",
      "Ready.\n",
      "Filtering raw data in 1 contiguous segment\n",
      "Setting up band-pass filter from 1 - 50 Hz\n",
      "\n",
      "FIR filter parameters\n",
      "---------------------\n",
      "Designing a one-pass, zero-phase, non-causal bandpass filter:\n",
      "- Windowed time-domain design (firwin) method\n",
      "- Hamming window with 0.0194 passband ripple and 53 dB stopband attenuation\n",
      "- Lower passband edge: 1.00\n",
      "- Lower transition bandwidth: 1.00 Hz (-6 dB cutoff frequency: 0.50 Hz)\n",
      "- Upper passband edge: 50.00 Hz\n",
      "- Upper transition bandwidth: 12.50 Hz (-6 dB cutoff frequency: 56.25 Hz)\n",
      "- Filter length: 423 samples (3.305 s)\n",
      "\n",
      "Fitting ICA to data using 32 channels (please be patient, this may take a while)\n",
      "Selecting by number: 32 components\n"
     ]
    },
    {
     "name": "stderr",
     "output_type": "stream",
     "text": [
      "/tmp/ipykernel_516038/1713448311.py:32: RuntimeWarning: Using n_components=32 (resulting in n_components_=32) may lead to an unstable mixing matrix estimation because the ratio between the largest (14) and smallest (3.9e-14) variances is too large (> 1e6); consider setting n_components=0.999999 or an integer <= 26\n",
      "  ica.fit(raw)\n",
      "[Parallel(n_jobs=1)]: Done  17 tasks      | elapsed:    0.0s\n"
     ]
    },
    {
     "name": "stdout",
     "output_type": "stream",
     "text": [
      "Fitting ICA took 0.9s.\n",
      "Applying ICA to Raw instance\n",
      "    Transforming to ICA space (32 components)\n",
      "    Zeroing out 0 ICA components\n",
      "    Projecting back using 32 PCA components\n",
      "wzt index 29\n",
      "wzt segment_2d (32, 7680)\n",
      "Creating RawArray with float64 data, n_channels=32, n_times=7680\n",
      "    Range : 0 ... 7679 =      0.000 ...    59.992 secs\n",
      "Ready.\n",
      "Filtering raw data in 1 contiguous segment\n",
      "Setting up band-pass filter from 1 - 50 Hz\n",
      "\n",
      "FIR filter parameters\n",
      "---------------------\n",
      "Designing a one-pass, zero-phase, non-causal bandpass filter:\n",
      "- Windowed time-domain design (firwin) method\n",
      "- Hamming window with 0.0194 passband ripple and 53 dB stopband attenuation\n",
      "- Lower passband edge: 1.00\n",
      "- Lower transition bandwidth: 1.00 Hz (-6 dB cutoff frequency: 0.50 Hz)\n",
      "- Upper passband edge: 50.00 Hz\n",
      "- Upper transition bandwidth: 12.50 Hz (-6 dB cutoff frequency: 56.25 Hz)\n",
      "- Filter length: 423 samples (3.305 s)\n",
      "\n",
      "Fitting ICA to data using 32 channels (please be patient, this may take a while)\n",
      "Selecting by number: 32 components\n"
     ]
    },
    {
     "name": "stderr",
     "output_type": "stream",
     "text": [
      "/tmp/ipykernel_516038/1713448311.py:32: RuntimeWarning: Using n_components=32 (resulting in n_components_=32) may lead to an unstable mixing matrix estimation because the ratio between the largest (14) and smallest (6.3e-14) variances is too large (> 1e6); consider setting n_components=0.999999 or an integer <= 26\n",
      "  ica.fit(raw)\n",
      "[Parallel(n_jobs=1)]: Done  17 tasks      | elapsed:    0.0s\n"
     ]
    },
    {
     "name": "stdout",
     "output_type": "stream",
     "text": [
      "Fitting ICA took 0.6s.\n",
      "Applying ICA to Raw instance\n",
      "    Transforming to ICA space (32 components)\n",
      "    Zeroing out 0 ICA components\n",
      "    Projecting back using 32 PCA components\n",
      "wzt index 30\n",
      "wzt segment_2d (32, 7680)\n",
      "Creating RawArray with float64 data, n_channels=32, n_times=7680\n",
      "    Range : 0 ... 7679 =      0.000 ...    59.992 secs\n",
      "Ready.\n",
      "Filtering raw data in 1 contiguous segment\n",
      "Setting up band-pass filter from 1 - 50 Hz\n",
      "\n",
      "FIR filter parameters\n",
      "---------------------\n",
      "Designing a one-pass, zero-phase, non-causal bandpass filter:\n",
      "- Windowed time-domain design (firwin) method\n",
      "- Hamming window with 0.0194 passband ripple and 53 dB stopband attenuation\n",
      "- Lower passband edge: 1.00\n",
      "- Lower transition bandwidth: 1.00 Hz (-6 dB cutoff frequency: 0.50 Hz)\n",
      "- Upper passband edge: 50.00 Hz\n",
      "- Upper transition bandwidth: 12.50 Hz (-6 dB cutoff frequency: 56.25 Hz)\n",
      "- Filter length: 423 samples (3.305 s)\n",
      "\n",
      "Fitting ICA to data using 32 channels (please be patient, this may take a while)\n",
      "Selecting by number: 32 components\n"
     ]
    },
    {
     "name": "stderr",
     "output_type": "stream",
     "text": [
      "/tmp/ipykernel_516038/1713448311.py:32: RuntimeWarning: Using n_components=32 (resulting in n_components_=32) may lead to an unstable mixing matrix estimation because the ratio between the largest (14) and smallest (8.6e-14) variances is too large (> 1e6); consider setting n_components=0.999999 or an integer <= 26\n",
      "  ica.fit(raw)\n",
      "[Parallel(n_jobs=1)]: Done  17 tasks      | elapsed:    0.0s\n"
     ]
    },
    {
     "name": "stdout",
     "output_type": "stream",
     "text": [
      "Fitting ICA took 0.9s.\n",
      "Applying ICA to Raw instance\n",
      "    Transforming to ICA space (32 components)\n",
      "    Zeroing out 0 ICA components\n",
      "    Projecting back using 32 PCA components\n",
      "wzt index 31\n",
      "wzt segment_2d (32, 7680)\n",
      "Creating RawArray with float64 data, n_channels=32, n_times=7680\n",
      "    Range : 0 ... 7679 =      0.000 ...    59.992 secs\n",
      "Ready.\n",
      "Filtering raw data in 1 contiguous segment\n",
      "Setting up band-pass filter from 1 - 50 Hz\n",
      "\n",
      "FIR filter parameters\n",
      "---------------------\n",
      "Designing a one-pass, zero-phase, non-causal bandpass filter:\n",
      "- Windowed time-domain design (firwin) method\n",
      "- Hamming window with 0.0194 passband ripple and 53 dB stopband attenuation\n",
      "- Lower passband edge: 1.00\n",
      "- Lower transition bandwidth: 1.00 Hz (-6 dB cutoff frequency: 0.50 Hz)\n",
      "- Upper passband edge: 50.00 Hz\n",
      "- Upper transition bandwidth: 12.50 Hz (-6 dB cutoff frequency: 56.25 Hz)\n",
      "- Filter length: 423 samples (3.305 s)\n",
      "\n",
      "Fitting ICA to data using 32 channels (please be patient, this may take a while)\n",
      "Selecting by number: 32 components\n"
     ]
    },
    {
     "name": "stderr",
     "output_type": "stream",
     "text": [
      "/tmp/ipykernel_516038/1713448311.py:32: RuntimeWarning: Using n_components=32 (resulting in n_components_=32) may lead to an unstable mixing matrix estimation because the ratio between the largest (15) and smallest (8.7e-14) variances is too large (> 1e6); consider setting n_components=0.999999 or an integer <= 26\n",
      "  ica.fit(raw)\n",
      "[Parallel(n_jobs=1)]: Done  17 tasks      | elapsed:    0.0s\n"
     ]
    },
    {
     "name": "stdout",
     "output_type": "stream",
     "text": [
      "Fitting ICA took 0.8s.\n",
      "Applying ICA to Raw instance\n",
      "    Transforming to ICA space (32 components)\n",
      "    Zeroing out 0 ICA components\n",
      "    Projecting back using 32 PCA components\n",
      "wzt index 32\n",
      "wzt segment_2d (32, 7680)\n",
      "Creating RawArray with float64 data, n_channels=32, n_times=7680\n",
      "    Range : 0 ... 7679 =      0.000 ...    59.992 secs\n",
      "Ready.\n",
      "Filtering raw data in 1 contiguous segment\n",
      "Setting up band-pass filter from 1 - 50 Hz\n",
      "\n",
      "FIR filter parameters\n",
      "---------------------\n",
      "Designing a one-pass, zero-phase, non-causal bandpass filter:\n",
      "- Windowed time-domain design (firwin) method\n",
      "- Hamming window with 0.0194 passband ripple and 53 dB stopband attenuation\n",
      "- Lower passband edge: 1.00\n",
      "- Lower transition bandwidth: 1.00 Hz (-6 dB cutoff frequency: 0.50 Hz)\n",
      "- Upper passband edge: 50.00 Hz\n",
      "- Upper transition bandwidth: 12.50 Hz (-6 dB cutoff frequency: 56.25 Hz)\n",
      "- Filter length: 423 samples (3.305 s)\n",
      "\n",
      "Fitting ICA to data using 32 channels (please be patient, this may take a while)\n",
      "Selecting by number: 32 components\n"
     ]
    },
    {
     "name": "stderr",
     "output_type": "stream",
     "text": [
      "/tmp/ipykernel_516038/1713448311.py:32: RuntimeWarning: Using n_components=32 (resulting in n_components_=32) may lead to an unstable mixing matrix estimation because the ratio between the largest (14) and smallest (9.2e-14) variances is too large (> 1e6); consider setting n_components=0.999999 or an integer <= 26\n",
      "  ica.fit(raw)\n",
      "[Parallel(n_jobs=1)]: Done  17 tasks      | elapsed:    0.0s\n"
     ]
    },
    {
     "name": "stdout",
     "output_type": "stream",
     "text": [
      "Fitting ICA took 0.7s.\n",
      "Applying ICA to Raw instance\n",
      "    Transforming to ICA space (32 components)\n",
      "    Zeroing out 0 ICA components\n",
      "    Projecting back using 32 PCA components\n",
      "wzt index 33\n",
      "wzt segment_2d (32, 7680)\n",
      "Creating RawArray with float64 data, n_channels=32, n_times=7680\n",
      "    Range : 0 ... 7679 =      0.000 ...    59.992 secs\n",
      "Ready.\n",
      "Filtering raw data in 1 contiguous segment\n",
      "Setting up band-pass filter from 1 - 50 Hz\n",
      "\n",
      "FIR filter parameters\n",
      "---------------------\n",
      "Designing a one-pass, zero-phase, non-causal bandpass filter:\n",
      "- Windowed time-domain design (firwin) method\n",
      "- Hamming window with 0.0194 passband ripple and 53 dB stopband attenuation\n",
      "- Lower passband edge: 1.00\n",
      "- Lower transition bandwidth: 1.00 Hz (-6 dB cutoff frequency: 0.50 Hz)\n",
      "- Upper passband edge: 50.00 Hz\n",
      "- Upper transition bandwidth: 12.50 Hz (-6 dB cutoff frequency: 56.25 Hz)\n",
      "- Filter length: 423 samples (3.305 s)\n",
      "\n",
      "Fitting ICA to data using 32 channels (please be patient, this may take a while)\n",
      "Selecting by number: 32 components\n"
     ]
    },
    {
     "name": "stderr",
     "output_type": "stream",
     "text": [
      "/tmp/ipykernel_516038/1713448311.py:32: RuntimeWarning: Using n_components=32 (resulting in n_components_=32) may lead to an unstable mixing matrix estimation because the ratio between the largest (13) and smallest (9.9e-14) variances is too large (> 1e6); consider setting n_components=0.999999 or an integer <= 27\n",
      "  ica.fit(raw)\n",
      "[Parallel(n_jobs=1)]: Done  17 tasks      | elapsed:    0.0s\n"
     ]
    },
    {
     "name": "stdout",
     "output_type": "stream",
     "text": [
      "Fitting ICA took 0.9s.\n",
      "Applying ICA to Raw instance\n",
      "    Transforming to ICA space (32 components)\n",
      "    Zeroing out 0 ICA components\n",
      "    Projecting back using 32 PCA components\n",
      "wzt index 34\n",
      "wzt segment_2d (32, 7680)\n",
      "Creating RawArray with float64 data, n_channels=32, n_times=7680\n",
      "    Range : 0 ... 7679 =      0.000 ...    59.992 secs\n",
      "Ready.\n",
      "Filtering raw data in 1 contiguous segment\n",
      "Setting up band-pass filter from 1 - 50 Hz\n",
      "\n",
      "FIR filter parameters\n",
      "---------------------\n",
      "Designing a one-pass, zero-phase, non-causal bandpass filter:\n",
      "- Windowed time-domain design (firwin) method\n",
      "- Hamming window with 0.0194 passband ripple and 53 dB stopband attenuation\n",
      "- Lower passband edge: 1.00\n",
      "- Lower transition bandwidth: 1.00 Hz (-6 dB cutoff frequency: 0.50 Hz)\n",
      "- Upper passband edge: 50.00 Hz\n",
      "- Upper transition bandwidth: 12.50 Hz (-6 dB cutoff frequency: 56.25 Hz)\n",
      "- Filter length: 423 samples (3.305 s)\n",
      "\n",
      "Fitting ICA to data using 32 channels (please be patient, this may take a while)\n",
      "Selecting by number: 32 components\n"
     ]
    },
    {
     "name": "stderr",
     "output_type": "stream",
     "text": [
      "/tmp/ipykernel_516038/1713448311.py:32: RuntimeWarning: Using n_components=32 (resulting in n_components_=32) may lead to an unstable mixing matrix estimation because the ratio between the largest (13) and smallest (8.3e-14) variances is too large (> 1e6); consider setting n_components=0.999999 or an integer <= 26\n",
      "  ica.fit(raw)\n",
      "[Parallel(n_jobs=1)]: Done  17 tasks      | elapsed:    0.0s\n"
     ]
    },
    {
     "name": "stdout",
     "output_type": "stream",
     "text": [
      "Fitting ICA took 1.2s.\n",
      "Applying ICA to Raw instance\n",
      "    Transforming to ICA space (32 components)\n",
      "    Zeroing out 0 ICA components\n",
      "    Projecting back using 32 PCA components\n",
      "wzt index 35\n",
      "wzt segment_2d (32, 7680)\n",
      "Creating RawArray with float64 data, n_channels=32, n_times=7680\n",
      "    Range : 0 ... 7679 =      0.000 ...    59.992 secs\n",
      "Ready.\n",
      "Filtering raw data in 1 contiguous segment\n",
      "Setting up band-pass filter from 1 - 50 Hz\n",
      "\n",
      "FIR filter parameters\n",
      "---------------------\n",
      "Designing a one-pass, zero-phase, non-causal bandpass filter:\n",
      "- Windowed time-domain design (firwin) method\n",
      "- Hamming window with 0.0194 passband ripple and 53 dB stopband attenuation\n",
      "- Lower passband edge: 1.00\n",
      "- Lower transition bandwidth: 1.00 Hz (-6 dB cutoff frequency: 0.50 Hz)\n",
      "- Upper passband edge: 50.00 Hz\n",
      "- Upper transition bandwidth: 12.50 Hz (-6 dB cutoff frequency: 56.25 Hz)\n",
      "- Filter length: 423 samples (3.305 s)\n",
      "\n",
      "Fitting ICA to data using 32 channels (please be patient, this may take a while)\n",
      "Selecting by number: 32 components\n"
     ]
    },
    {
     "name": "stderr",
     "output_type": "stream",
     "text": [
      "/tmp/ipykernel_516038/1713448311.py:32: RuntimeWarning: Using n_components=32 (resulting in n_components_=32) may lead to an unstable mixing matrix estimation because the ratio between the largest (14) and smallest (1.3e-13) variances is too large (> 1e6); consider setting n_components=0.999999 or an integer <= 27\n",
      "  ica.fit(raw)\n",
      "[Parallel(n_jobs=1)]: Done  17 tasks      | elapsed:    0.0s\n"
     ]
    },
    {
     "name": "stdout",
     "output_type": "stream",
     "text": [
      "Fitting ICA took 0.8s.\n",
      "Applying ICA to Raw instance\n",
      "    Transforming to ICA space (32 components)\n",
      "    Zeroing out 0 ICA components\n",
      "    Projecting back using 32 PCA components\n",
      "wzt index 36\n",
      "wzt segment_2d (32, 7680)\n",
      "Creating RawArray with float64 data, n_channels=32, n_times=7680\n",
      "    Range : 0 ... 7679 =      0.000 ...    59.992 secs\n",
      "Ready.\n",
      "Filtering raw data in 1 contiguous segment\n",
      "Setting up band-pass filter from 1 - 50 Hz\n",
      "\n",
      "FIR filter parameters\n",
      "---------------------\n",
      "Designing a one-pass, zero-phase, non-causal bandpass filter:\n",
      "- Windowed time-domain design (firwin) method\n",
      "- Hamming window with 0.0194 passband ripple and 53 dB stopband attenuation\n",
      "- Lower passband edge: 1.00\n",
      "- Lower transition bandwidth: 1.00 Hz (-6 dB cutoff frequency: 0.50 Hz)\n",
      "- Upper passband edge: 50.00 Hz\n",
      "- Upper transition bandwidth: 12.50 Hz (-6 dB cutoff frequency: 56.25 Hz)\n",
      "- Filter length: 423 samples (3.305 s)\n",
      "\n",
      "Fitting ICA to data using 32 channels (please be patient, this may take a while)\n",
      "Selecting by number: 32 components\n"
     ]
    },
    {
     "name": "stderr",
     "output_type": "stream",
     "text": [
      "/tmp/ipykernel_516038/1713448311.py:32: RuntimeWarning: Using n_components=32 (resulting in n_components_=32) may lead to an unstable mixing matrix estimation because the ratio between the largest (14) and smallest (6.1e-14) variances is too large (> 1e6); consider setting n_components=0.999999 or an integer <= 26\n",
      "  ica.fit(raw)\n",
      "[Parallel(n_jobs=1)]: Done  17 tasks      | elapsed:    0.0s\n"
     ]
    },
    {
     "name": "stdout",
     "output_type": "stream",
     "text": [
      "Fitting ICA took 1.2s.\n",
      "Applying ICA to Raw instance\n",
      "    Transforming to ICA space (32 components)\n",
      "    Zeroing out 0 ICA components\n",
      "    Projecting back using 32 PCA components\n",
      "wzt index 37\n",
      "wzt segment_2d (32, 7680)\n",
      "Creating RawArray with float64 data, n_channels=32, n_times=7680\n",
      "    Range : 0 ... 7679 =      0.000 ...    59.992 secs\n",
      "Ready.\n",
      "Filtering raw data in 1 contiguous segment\n",
      "Setting up band-pass filter from 1 - 50 Hz\n",
      "\n",
      "FIR filter parameters\n",
      "---------------------\n",
      "Designing a one-pass, zero-phase, non-causal bandpass filter:\n",
      "- Windowed time-domain design (firwin) method\n",
      "- Hamming window with 0.0194 passband ripple and 53 dB stopband attenuation\n",
      "- Lower passband edge: 1.00\n",
      "- Lower transition bandwidth: 1.00 Hz (-6 dB cutoff frequency: 0.50 Hz)\n",
      "- Upper passband edge: 50.00 Hz\n",
      "- Upper transition bandwidth: 12.50 Hz (-6 dB cutoff frequency: 56.25 Hz)\n",
      "- Filter length: 423 samples (3.305 s)\n",
      "\n",
      "Fitting ICA to data using 32 channels (please be patient, this may take a while)\n",
      "Selecting by number: 32 components\n"
     ]
    },
    {
     "name": "stderr",
     "output_type": "stream",
     "text": [
      "/tmp/ipykernel_516038/1713448311.py:32: RuntimeWarning: Using n_components=32 (resulting in n_components_=32) may lead to an unstable mixing matrix estimation because the ratio between the largest (16) and smallest (1.5e-13) variances is too large (> 1e6); consider setting n_components=0.999999 or an integer <= 27\n",
      "  ica.fit(raw)\n",
      "[Parallel(n_jobs=1)]: Done  17 tasks      | elapsed:    0.0s\n"
     ]
    },
    {
     "name": "stdout",
     "output_type": "stream",
     "text": [
      "Fitting ICA took 0.8s.\n",
      "Applying ICA to Raw instance\n",
      "    Transforming to ICA space (32 components)\n",
      "    Zeroing out 0 ICA components\n",
      "    Projecting back using 32 PCA components\n",
      "wzt index 38\n",
      "wzt segment_2d (32, 7680)\n",
      "Creating RawArray with float64 data, n_channels=32, n_times=7680\n",
      "    Range : 0 ... 7679 =      0.000 ...    59.992 secs\n",
      "Ready.\n",
      "Filtering raw data in 1 contiguous segment\n",
      "Setting up band-pass filter from 1 - 50 Hz\n",
      "\n",
      "FIR filter parameters\n",
      "---------------------\n",
      "Designing a one-pass, zero-phase, non-causal bandpass filter:\n",
      "- Windowed time-domain design (firwin) method\n",
      "- Hamming window with 0.0194 passband ripple and 53 dB stopband attenuation\n",
      "- Lower passband edge: 1.00\n",
      "- Lower transition bandwidth: 1.00 Hz (-6 dB cutoff frequency: 0.50 Hz)\n",
      "- Upper passband edge: 50.00 Hz\n",
      "- Upper transition bandwidth: 12.50 Hz (-6 dB cutoff frequency: 56.25 Hz)\n",
      "- Filter length: 423 samples (3.305 s)\n",
      "\n",
      "Fitting ICA to data using 32 channels (please be patient, this may take a while)\n",
      "Selecting by number: 32 components\n"
     ]
    },
    {
     "name": "stderr",
     "output_type": "stream",
     "text": [
      "/tmp/ipykernel_516038/1713448311.py:32: RuntimeWarning: Using n_components=32 (resulting in n_components_=32) may lead to an unstable mixing matrix estimation because the ratio between the largest (13) and smallest (1e-13) variances is too large (> 1e6); consider setting n_components=0.999999 or an integer <= 26\n",
      "  ica.fit(raw)\n",
      "[Parallel(n_jobs=1)]: Done  17 tasks      | elapsed:    0.0s\n"
     ]
    },
    {
     "name": "stdout",
     "output_type": "stream",
     "text": [
      "Fitting ICA took 0.5s.\n",
      "Applying ICA to Raw instance\n",
      "    Transforming to ICA space (32 components)\n",
      "    Zeroing out 0 ICA components\n",
      "    Projecting back using 32 PCA components\n",
      "wzt index 39\n",
      "wzt segment_2d (32, 7680)\n",
      "Creating RawArray with float64 data, n_channels=32, n_times=7680\n",
      "    Range : 0 ... 7679 =      0.000 ...    59.992 secs\n",
      "Ready.\n",
      "Filtering raw data in 1 contiguous segment\n",
      "Setting up band-pass filter from 1 - 50 Hz\n",
      "\n",
      "FIR filter parameters\n",
      "---------------------\n",
      "Designing a one-pass, zero-phase, non-causal bandpass filter:\n",
      "- Windowed time-domain design (firwin) method\n",
      "- Hamming window with 0.0194 passband ripple and 53 dB stopband attenuation\n",
      "- Lower passband edge: 1.00\n",
      "- Lower transition bandwidth: 1.00 Hz (-6 dB cutoff frequency: 0.50 Hz)\n",
      "- Upper passband edge: 50.00 Hz\n",
      "- Upper transition bandwidth: 12.50 Hz (-6 dB cutoff frequency: 56.25 Hz)\n",
      "- Filter length: 423 samples (3.305 s)\n",
      "\n",
      "Fitting ICA to data using 32 channels (please be patient, this may take a while)\n",
      "Selecting by number: 32 components\n"
     ]
    },
    {
     "name": "stderr",
     "output_type": "stream",
     "text": [
      "/tmp/ipykernel_516038/1713448311.py:32: RuntimeWarning: Using n_components=32 (resulting in n_components_=32) may lead to an unstable mixing matrix estimation because the ratio between the largest (13) and smallest (1.1e-13) variances is too large (> 1e6); consider setting n_components=0.999999 or an integer <= 27\n",
      "  ica.fit(raw)\n",
      "[Parallel(n_jobs=1)]: Done  17 tasks      | elapsed:    0.0s\n"
     ]
    },
    {
     "name": "stdout",
     "output_type": "stream",
     "text": [
      "Fitting ICA took 1.0s.\n",
      "Applying ICA to Raw instance\n",
      "    Transforming to ICA space (32 components)\n",
      "    Zeroing out 0 ICA components\n",
      "    Projecting back using 32 PCA components\n",
      "wzt index 40\n",
      "wzt segment_2d (32, 7680)\n",
      "Creating RawArray with float64 data, n_channels=32, n_times=7680\n",
      "    Range : 0 ... 7679 =      0.000 ...    59.992 secs\n",
      "Ready.\n",
      "Filtering raw data in 1 contiguous segment\n",
      "Setting up band-pass filter from 1 - 50 Hz\n",
      "\n",
      "FIR filter parameters\n",
      "---------------------\n",
      "Designing a one-pass, zero-phase, non-causal bandpass filter:\n",
      "- Windowed time-domain design (firwin) method\n",
      "- Hamming window with 0.0194 passband ripple and 53 dB stopband attenuation\n",
      "- Lower passband edge: 1.00\n",
      "- Lower transition bandwidth: 1.00 Hz (-6 dB cutoff frequency: 0.50 Hz)\n",
      "- Upper passband edge: 50.00 Hz\n",
      "- Upper transition bandwidth: 12.50 Hz (-6 dB cutoff frequency: 56.25 Hz)\n",
      "- Filter length: 423 samples (3.305 s)\n",
      "\n",
      "Fitting ICA to data using 32 channels (please be patient, this may take a while)\n",
      "Selecting by number: 32 components\n"
     ]
    },
    {
     "name": "stderr",
     "output_type": "stream",
     "text": [
      "/tmp/ipykernel_516038/1713448311.py:32: RuntimeWarning: Using n_components=32 (resulting in n_components_=32) may lead to an unstable mixing matrix estimation because the ratio between the largest (12) and smallest (4.6e-14) variances is too large (> 1e6); consider setting n_components=0.999999 or an integer <= 26\n",
      "  ica.fit(raw)\n",
      "[Parallel(n_jobs=1)]: Done  17 tasks      | elapsed:    0.0s\n"
     ]
    },
    {
     "name": "stdout",
     "output_type": "stream",
     "text": [
      "Fitting ICA took 0.9s.\n",
      "Applying ICA to Raw instance\n",
      "    Transforming to ICA space (32 components)\n",
      "    Zeroing out 0 ICA components\n",
      "    Projecting back using 32 PCA components\n",
      "(800, 32, 384)\n"
     ]
    },
    {
     "name": "stderr",
     "output_type": "stream",
     "text": [
      "/tmp/ipykernel_516038/1713448311.py:32: RuntimeWarning: Using n_components=32 (resulting in n_components_=32) may lead to an unstable mixing matrix estimation because the ratio between the largest (14) and smallest (9.7e-14) variances is too large (> 1e6); consider setting n_components=0.999999 or an integer <= 26\n",
      "  ica.fit(raw)\n"
     ]
    }
   ],
   "source": [
    "import pandas as pd\n",
    "import mne\n",
    "from mne import io\n",
    "from mne.datasets import sample\n",
    "from mne.preprocessing import ICA\n",
    "import os\n",
    "\n",
    "sfreq = 128  # 采样率为128Hz\n",
    "channels = 32\n",
    "samples = 384\n",
    "num_each_trial = 20\n",
    "ch_names = ['Fp1', 'AF3', 'F7', 'F3', 'FC1', 'FC5', 'T7', 'C3', 'CP1', 'CP5', 'P7', 'P3', \n",
    "            'Pz', 'PO3', 'O1', 'Oz', 'O2', 'PO4', 'P4', 'P8', 'CP6', 'CP2', 'C4', 'T8', \n",
    "            'FC6', 'FC2', 'F4', 'F8', 'AF4', 'FP2', 'Fz', 'Cz']\n",
    "ch_types = ['eeg'] * channels\n",
    "\n",
    "data_list = []\n",
    "eeg_data_segments = np.split(eeg_data, 40, axis=0) # (40, 32, 7680)\n",
    "index = 0\n",
    "for segment in eeg_data_segments:\n",
    "    index = index + 1\n",
    "    print(\"wzt index\", index)\n",
    "    segment_2d = segment.reshape(-1, channels).T\n",
    "    print(\"wzt segment_2d\", segment_2d.shape) # (32, 7680)\n",
    "    # 创建MNE的Raw对象\n",
    "    info = mne.create_info(ch_names=ch_names, ch_types=ch_types, sfreq=sfreq)\n",
    "    raw = mne.io.RawArray(segment_2d, info=info)\n",
    "    # 滤波\n",
    "    raw.filter(l_freq=1.0, h_freq=50.0)\n",
    "    # 创建ICA对象并拟合数据\n",
    "    ica = ICA(n_components=channels, random_state=0, max_iter=1000)  # 调整参数\n",
    "    ica.fit(raw)\n",
    "    # 应用ICA滤波\n",
    "    ica.exclude = []  # 将排除的独立成分列表设置为空\n",
    "    ica.apply(raw)\n",
    "    # 获取滤波后的数据\n",
    "    data = raw.get_data().T # (7680, 32)\n",
    "\n",
    "    # 将数据调整为每个trial的形状\n",
    "    data = data[:num_each_trial * samples, :]\n",
    "    # 重新将数据分成每个trial的形状\n",
    "    data = data.reshape(num_each_trial, samples, channels)\n",
    "    # 添加数据到列表中\n",
    "    data_list.append(data)\n",
    "\n",
    "# 将数据列表转换为numpy数组并按顺序连接\n",
    "data_array = np.concatenate(data_list, axis=0) # (800, 384, 32)\n",
    "# 交换位置\n",
    "data_array = np.swapaxes(data_array, 1, 2) # (800, 32, 384)\n",
    "print(data_array.shape) \n",
    "eeg_data = data_array"
   ]
  },
  {
   "cell_type": "code",
   "execution_count": 14,
   "metadata": {},
   "outputs": [],
   "source": [
    "'''\n",
    "    保存数据\n",
    "'''\n",
    "np.save('./EEGData/s02_eeg.npy', eeg_data) # (800, 32, 384)\n",
    "np.save('./EEGData/s02_labels.npy', labels) # (800,)"
   ]
  }
 ],
 "metadata": {
  "kernelspec": {
   "display_name": "base",
   "language": "python",
   "name": "python3"
  },
  "language_info": {
   "codemirror_mode": {
    "name": "ipython",
    "version": 3
   },
   "file_extension": ".py",
   "mimetype": "text/x-python",
   "name": "python",
   "nbconvert_exporter": "python",
   "pygments_lexer": "ipython3",
   "version": "3.8.17"
  }
 },
 "nbformat": 4,
 "nbformat_minor": 2
}
