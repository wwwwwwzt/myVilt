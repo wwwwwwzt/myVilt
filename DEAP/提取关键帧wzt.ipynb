{
 "cells": [
  {
   "cell_type": "code",
   "execution_count": 1,
   "metadata": {},
   "outputs": [
    {
     "name": "stdout",
     "output_type": "stream",
     "text": [
      "s03 has only 39 videos.\n",
      "s05 has only 39 videos.\n",
      "s11 has only 37 videos.\n",
      "s14 has only 39 videos.\n"
     ]
    }
   ],
   "source": [
    "'''\n",
    "    识别face_video的数量是否完整\n",
    "\n",
    "    s03 s05 s14 只有780图片 缺少40.avi\n",
    "    s11 只有1-37视频\n",
    "    s22 缺大量视频（通过csdn上找的链接补上了）\n",
    "\n",
    "    s04 photo/323照片 手挡住了脸\n",
    "'''\n",
    "import os\n",
    "\n",
    "def check_video_counts(base_path=\"./face_video\"):\n",
    "    for person_index in range(1, 23):  # 有22个人\n",
    "        person_index_formatted = f\"s{person_index:02d}\"\n",
    "        person_folder_path = os.path.join(base_path, person_index_formatted)\n",
    "        if not os.path.exists(person_folder_path):\n",
    "            print(f\"Folder does not exist: {person_folder_path}\")\n",
    "            continue\n",
    "\n",
    "        video_files = [f for f in os.listdir(person_folder_path) if f.endswith('.avi')]\n",
    "        video_count = len(video_files)\n",
    "\n",
    "        if video_count < 40:\n",
    "            print(f\"{person_index_formatted} has only {video_count} videos.\")\n",
    "\n",
    "check_video_counts()"
   ]
  },
  {
   "cell_type": "code",
   "execution_count": null,
   "metadata": {},
   "outputs": [],
   "source": [
    "'''\n",
    "    提取关键帧\n",
    "'''\n",
    "import cv2\n",
    "import os\n",
    "\n",
    "def process_video(person_index, trial_index):\n",
    "    person_index_formatted = f\"s{person_index:02d}\"\n",
    "    trial_index_formatted = f\"{trial_index:02d}\"\n",
    "    # video_path = \"./face_video/s02/s02_trial{}.avi\".format(input_index)  # 修复路径\n",
    "    video_path = f\"./face_video/{person_index_formatted}/{person_index_formatted}_trial{trial_index_formatted}.avi\"\n",
    "    cap = cv2.VideoCapture(video_path)\n",
    "\n",
    "    # 获取视频的帧率\n",
    "    fps = cap.get(cv2.CAP_PROP_FPS)\n",
    "    # 每隔3秒提取一次关键帧\n",
    "    interval_sec = 3\n",
    "    # 计算要跳过的帧数\n",
    "    skip_frames = int(fps * interval_sec)\n",
    "\n",
    "    # 循环读取帧\n",
    "    frame_count = 0\n",
    "    # 有效的帧数\n",
    "    useful_frame_count = 0\n",
    "    while cap.isOpened():\n",
    "        # 读取帧\n",
    "        ret, frame = cap.read()\n",
    "        if not ret:\n",
    "            break\n",
    "\n",
    "        # 选择关键帧\n",
    "        if frame_count % skip_frames == 0:\n",
    "            useful_frame_count += 1\n",
    "            # output_index = 20 * (index - 1) + useful_frame_count\n",
    "            # key_frame_path = f\"./photo/s02/{output_index}.jpg\"\n",
    "            output_index = 20 * (trial_index - 1) + useful_frame_count\n",
    "            key_frame_path = f\"./photo/{person_index_formatted}/{output_index}.jpg\"\n",
    "            os.makedirs(os.path.dirname(key_frame_path), exist_ok=True)\n",
    "            cv2.imwrite(key_frame_path, frame)\n",
    "            print(f\"Saved key frame {key_frame_path}\")\n",
    "\n",
    "        frame_count += 1\n",
    "    cap.release()\n",
    "    \n",
    "\n",
    "# 假设每个人有40个视频\n",
    "for person_index in range(14, 23):  # s01-s22 但是第22个人视频数量不足\n",
    "    for trial_index in range(1, 41):  # 每个人40个视频\n",
    "        process_video(person_index, trial_index)"
   ]
  }
 ],
 "metadata": {
  "kernelspec": {
   "display_name": "base",
   "language": "python",
   "name": "python3"
  },
  "language_info": {
   "codemirror_mode": {
    "name": "ipython",
    "version": 3
   },
   "file_extension": ".py",
   "mimetype": "text/x-python",
   "name": "python",
   "nbconvert_exporter": "python",
   "pygments_lexer": "ipython3",
   "version": "3.8.17"
  }
 },
 "nbformat": 4,
 "nbformat_minor": 2
}
