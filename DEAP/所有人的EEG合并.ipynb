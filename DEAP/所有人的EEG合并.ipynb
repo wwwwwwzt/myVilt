{
 "cells": [
  {
   "cell_type": "code",
   "execution_count": 1,
   "metadata": {},
   "outputs": [],
   "source": [
    "import numpy as np"
   ]
  },
  {
   "cell_type": "code",
   "execution_count": 2,
   "metadata": {},
   "outputs": [],
   "source": [
    "eeg_data_folder = './EEGData/'\n",
    "all_eeg_data = []\n",
    "all_labels = []\n",
    "\n",
    "available_subjects = [1, 2, 6, 7, 8, 9, 10, 12, 13, 16, 17, 18, 19, 20, 21, 22]\n",
    "# 从s01到s22遍历每个人\n",
    "for i in available_subjects:\n",
    "    eeg_file = f\"{eeg_data_folder}s{str(i).zfill(2)}_eeg.npy\"\n",
    "    label_file = f\"{eeg_data_folder}s{str(i).zfill(2)}_labels.npy\"\n",
    "    \n",
    "    # 尝试加载 EEG 数据和标签，如果文件不存在则跳过\n",
    "    try:\n",
    "        eeg_data = np.load(eeg_file)\n",
    "        labels = np.load(label_file)\n",
    "        \n",
    "        # 将数据添加到列表中\n",
    "        all_eeg_data.append(eeg_data)\n",
    "        all_labels.append(labels)\n",
    "    except FileNotFoundError:\n",
    "        print(f\"Data for subject {i} not found, skipping.\")\n",
    "\n",
    "# 将所有人的数据拼接到一起\n",
    "all_eeg_data = np.concatenate(all_eeg_data, axis=0)\n",
    "all_labels = np.concatenate(all_labels, axis=0)"
   ]
  },
  {
   "cell_type": "code",
   "execution_count": 3,
   "metadata": {},
   "outputs": [
    {
     "name": "stdout",
     "output_type": "stream",
     "text": [
      "(12800, 32, 384)\n",
      "(12800,)\n"
     ]
    }
   ],
   "source": [
    "'''\n",
    "    保存数据 \n",
    "    1. 7 x 800 = 5600\n",
    "    2. 16 x 800 = 12800\n",
    "'''\n",
    "np.save(f'./EEGData/all_eeg.npy', all_eeg_data) # (5600, 32, 384)\n",
    "np.save(f'./EEGData/all_labels.npy', all_labels) # (5600,)\n",
    "print(all_eeg_data.shape)\n",
    "print(all_labels.shape)"
   ]
  }
 ],
 "metadata": {
  "kernelspec": {
   "display_name": "myvilt",
   "language": "python",
   "name": "python3"
  },
  "language_info": {
   "codemirror_mode": {
    "name": "ipython",
    "version": 3
   },
   "file_extension": ".py",
   "mimetype": "text/x-python",
   "name": "python",
   "nbconvert_exporter": "python",
   "pygments_lexer": "ipython3",
   "version": "3.8.0"
  }
 },
 "nbformat": 4,
 "nbformat_minor": 2
}
